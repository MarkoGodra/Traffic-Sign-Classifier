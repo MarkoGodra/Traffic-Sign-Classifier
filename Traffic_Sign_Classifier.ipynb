{
 "cells": [
  {
   "cell_type": "markdown",
   "execution_count": null,
   "metadata": {},
   "outputs": [],
   "source": [
    "# Self-Driving Car Engineer Nanodegree\n",
    "\n",
    "## Deep Learning\n",
    "\n",
    "## Project: Build a Traffic Sign Recognition Classifier\n",
    "\n",
    "In this notebook, a template is provided for you to implement your functionality in stages, which is required to successfully complete this project. If additional code is required that cannot be included in the notebook, be sure that the Python code is successfully imported and included in your submission if necessary. \n",
    "\n",
    "> **Note**: Once you have completed all of the code implementations, you need to finalize your work by exporting the iPython Notebook as an HTML document. Before exporting the notebook to html, all of the code cells need to have been run so that reviewers can see the final implementation and output. You can then export the notebook by using the menu above and navigating to  \\n\",\n",
    "    \"**File -> Download as -> HTML (.html)**. Include the finished document along with this notebook as your submission. \n",
    "\n",
    "In addition to implementing code, there is a writeup to complete. The writeup should be completed in a separate file, which can be either a markdown file or a pdf document. There is a [write up template](https://github.com/udacity/CarND-Traffic-Sign-Classifier-Project/blob/master/writeup_template.md) that can be used to guide the writing process. Completing the code template and writeup template will cover all of the [rubric points](https://review.udacity.com/#!/rubrics/481/view) for this project.\n",
    "\n",
    "The [rubric](https://review.udacity.com/#!/rubrics/481/view) contains \"Stand Out Suggestions\" for enhancing the project beyond the minimum requirements. The stand out suggestions are optional. If you decide to pursue the \"stand out suggestions\", you can include the code in this Ipython notebook and also discuss the results in the writeup file.\n",
    "\n",
    "\n",
    ">**Note:** Code and Markdown cells can be executed using the **Shift + Enter** keyboard shortcut. In addition, Markdown cells can be edited by typically double-clicking the cell to enter edit mode."
   ]
  },
  {
   "cell_type": "markdown",
   "execution_count": null,
   "metadata": {},
   "outputs": [],
   "source": [
    "---\n",
    "## Step 0: Load The Data"
   ]
  },
  {
   "cell_type": "code",
   "execution_count": 1,
   "metadata": {},
   "outputs": [],
   "source": [
    "# Load pickled data\n",
    "import pickle\n",
    "\n",
    "training_file = './traffic-signs-data/train.p'\n",
    "validation_file= './traffic-signs-data/valid.p'\n",
    "testing_file = './traffic-signs-data/test.p'\n",
    "\n",
    "with open(training_file, mode='rb') as f:\n",
    "    train = pickle.load(f)\n",
    "with open(validation_file, mode='rb') as f:\n",
    "    valid = pickle.load(f)\n",
    "with open(testing_file, mode='rb') as f:\n",
    "    test = pickle.load(f)\n",
    "    \n",
    "X_train, y_train = train['features'], train['labels']\n",
    "X_valid, y_valid = valid['features'], valid['labels']\n",
    "X_test, y_test = test['features'], test['labels']"
   ]
  },
  {
   "cell_type": "markdown",
   "execution_count": null,
   "metadata": {},
   "outputs": [],
   "source": [
    "---\n",
    "\n",
    "## Step 1: Dataset Summary & Exploration\n",
    "\n",
    "The pickled data is a dictionary with 4 key/value pairs:\n",
    "\n",
    "- `'features'` is a 4D array containing raw pixel data of the traffic sign images, (num examples, width, height, channels).\n",
    "- `'labels'` is a 1D array containing the label/class id of the traffic sign. The file `signnames.csv` contains id -> name mappings for each id.\n",
    "- `'sizes'` is a list containing tuples, (width, height) representing the original width and height the image.\n",
    "- `'coords'` is a list containing tuples, (x1, y1, x2, y2) representing coordinates of a bounding box around the sign in the image. **THESE COORDINATES ASSUME THE ORIGINAL IMAGE. THE PICKLED DATA CONTAINS RESIZED VERSIONS (32 by 32) OF THESE IMAGES**\n",
    "\n",
    "Complete the basic data summary below. Use python, numpy and/or pandas methods to calculate the data summary rather than hard coding the results. For example, the [pandas shape method](http://pandas.pydata.org/pandas-docs/stable/generated/pandas.DataFrame.shape.html) might be useful for calculating some of the summary results. "
   ]
  },
  {
   "cell_type": "markdown",
   "execution_count": null,
   "metadata": {},
   "outputs": [],
   "source": [
    "### Provide a Basic Summary of the Data Set Using Python, Numpy and/or Pandas"
   ]
  },
  {
   "cell_type": "code",
   "execution_count": 2,
   "metadata": {},
   "outputs": [],
   "source": [
    "import numpy as np"
   ]
  },
  {
   "cell_type": "code",
   "execution_count": 3,
   "metadata": {},
   "outputs": [
    {
     "name": "stdout",
     "output_type": "stream",
     "text": "Number of training examples = 34799\nNumber of validation examples:  4410\nNumber of testing examples = 12630\nImage data shape = (32, 32, 3)\nNumber of classes = 43\n"
    }
   ],
   "source": [
    "# Number of training examples\n",
    "n_train = np.array(train['labels']).shape[0]\n",
    "\n",
    "# Number of validation examples\n",
    "n_validation = np.array(valid['labels']).shape[0]\n",
    "\n",
    "# Number of testing examples.\n",
    "n_test = np.array(test['labels']).shape[0]\n",
    "\n",
    "# What's the shape of an traffic sign image?\n",
    "image_shape = np.array(train['features'])[0].shape\n",
    "\n",
    "# How many unique classes/labels there are in the dataset.\n",
    "n_classes = np.unique(np.array(train['labels'])).shape[0]\n",
    "\n",
    "print(\"Number of training examples =\", n_train)\n",
    "print(\"Number of validation examples: \", n_validation)\n",
    "print(\"Number of testing examples =\", n_test)\n",
    "print(\"Image data shape =\", image_shape)\n",
    "print(\"Number of classes =\", n_classes)"
   ]
  },
  {
   "cell_type": "markdown",
   "execution_count": null,
   "metadata": {},
   "outputs": [],
   "source": [
    "### Include an exploratory visualization of the dataset"
   ]
  },
  {
   "cell_type": "markdown",
   "execution_count": null,
   "metadata": {},
   "outputs": [],
   "source": [
    "Visualize the German Traffic Signs Dataset using the pickled file(s). This is open ended, suggestions include: plotting traffic sign images, plotting the count of each sign, etc. \n",
    "\n",
    "The [Matplotlib](http://matplotlib.org/) [examples](http://matplotlib.org/examples/index.html) and [gallery](http://matplotlib.org/gallery.html) pages are a great resource for doing visualizations in Python.\n",
    "\n",
    "**NOTE:** It's recommended you start with something simple first. If you wish to do more, come back to it after you've completed the rest of the sections. It can be interesting to look at the distribution of classes in the training, validation and test set. Is the distribution the same? Are there more examples of some classes than others?"
   ]
  },
  {
   "cell_type": "code",
   "execution_count": 4,
   "metadata": {},
   "outputs": [
    {
     "name": "stdout",
     "output_type": "stream",
     "text": "Label for given image:  17\n"
    },
    {
     "data": {
      "image/png": "[encoded data removed]",
      "image/svg+xml": "<?xml version=\"1.0\" encoding=\"utf-8\" standalone=\"no\"?>\n<!DOCTYPE svg PUBLIC \"-//W3C//DTD SVG 1.1//EN\"\n  \"http://www.w3.org/Graphics/SVG/1.1/DTD/svg11.dtd\">\n<!-- Created with matplotlib (https://matplotlib.org/) -->\n<svg height=\"141.898594pt\" version=\"1.1\" viewBox=\"0 0 142.845 141.898594\" width=\"142.845pt\" xmlns=\"http://www.w3.org/2000/svg\" xmlns:xlink=\"http://www.w3.org/1999/xlink\">\n <defs>\n  <style type=\"text/css\">\n*{stroke-linecap:butt;stroke-linejoin:round;}\n  </style>\n </defs>\n <g id=\"figure_1\">\n  <g id=\"patch_1\">\n   <path d=\"M 0 141.898594 \nL 142.845 141.898594 \nL 142.845 0 \nL 0 0 \nz\n\" style=\"fill:none;\"/>\n  </g>\n  <g id=\"axes_1\">\n   <g id=\"patch_2\">\n    <path d=\"M 26.925 118.020469 \nL 135.645 118.020469 \nL 135.645 9.300469 \nL 26.925 9.300469 \nz\n\" style=\"fill:#ffffff;\"/>\n   </g>\n   <g clip-path=\"url(#pe15e399230)\">\n    <image height=\"109\" id=\"image59cd529cb3\" transform=\"scale(1 -1)translate(0 -109)\" width=\"109\" x=\"26.925\" xlink:href=\"data:image/png;base64,\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\" y=\"-9.020469\"/>\n   </g>\n   <g id=\"matplotlib.axis_1\">\n    <g id=\"xtick_1\">\n     <g id=\"line2d_1\">\n      <defs>\n       <path d=\"M 0 0 \nL 0 3.5 \n\" id=\"m7e477f0a84\" style=\"stroke:#000000;stroke-width:0.8;\"/>\n      </defs>\n      <g>\n       <use style=\"stroke:#000000;stroke-width:0.8;\" x=\"28.62375\" xlink:href=\"#m7e477f0a84\" y=\"118.020469\"/>\n      </g>\n     </g>\n     <g id=\"text_1\">\n      <!-- 0 -->\n      <defs>\n       <path d=\"M 31.78125 66.40625 \nQ 24.171875 66.40625 20.328125 58.90625 \nQ 16.5 51.421875 16.5 36.375 \nQ 16.5 21.390625 20.328125 13.890625 \nQ 24.171875 6.390625 31.78125 6.390625 \nQ 39.453125 6.390625 43.28125 13.890625 \nQ 47.125 21.390625 47.125 36.375 \nQ 47.125 51.421875 43.28125 58.90625 \nQ 39.453125 66.40625 31.78125 66.40625 \nz\nM 31.78125 74.21875 \nQ 44.046875 74.21875 50.515625 64.515625 \nQ 56.984375 54.828125 56.984375 36.375 \nQ 56.984375 17.96875 50.515625 8.265625 \nQ 44.046875 -1.421875 31.78125 -1.421875 \nQ 19.53125 -1.421875 13.0625 8.265625 \nQ 6.59375 17.96875 6.59375 36.375 \nQ 6.59375 54.828125 13.0625 64.515625 \nQ 19.53125 74.21875 31.78125 74.21875 \nz\n\" id=\"DejaVuSans-48\"/>\n      </defs>\n      <g transform=\"translate(25.4425 132.618906)scale(0.1 -0.1)\">\n       <use xlink:href=\"#DejaVuSans-48\"/>\n      </g>\n     </g>\n    </g>\n    <g id=\"xtick_2\">\n     <g id=\"line2d_2\">\n      <g>\n       <use style=\"stroke:#000000;stroke-width:0.8;\" x=\"96.57375\" xlink:href=\"#m7e477f0a84\" y=\"118.020469\"/>\n      </g>\n     </g>\n     <g id=\"text_2\">\n      <!-- 20 -->\n      <defs>\n       <path d=\"M 19.1875 8.296875 \nL 53.609375 8.296875 \nL 53.609375 0 \nL 7.328125 0 \nL 7.328125 8.296875 \nQ 12.9375 14.109375 22.625 23.890625 \nQ 32.328125 33.6875 34.8125 36.53125 \nQ 39.546875 41.84375 41.421875 45.53125 \nQ 43.3125 49.21875 43.3125 52.78125 \nQ 43.3125 58.59375 39.234375 62.25 \nQ 35.15625 65.921875 28.609375 65.921875 \nQ 23.96875 65.921875 18.8125 64.3125 \nQ 13.671875 62.703125 7.8125 59.421875 \nL 7.8125 69.390625 \nQ 13.765625 71.78125 18.9375 73 \nQ 24.125 74.21875 28.421875 74.21875 \nQ 39.75 74.21875 46.484375 68.546875 \nQ 53.21875 62.890625 53.21875 53.421875 \nQ 53.21875 48.921875 51.53125 44.890625 \nQ 49.859375 40.875 45.40625 35.40625 \nQ 44.1875 33.984375 37.640625 27.21875 \nQ 31.109375 20.453125 19.1875 8.296875 \nz\n\" id=\"DejaVuSans-50\"/>\n      </defs>\n      <g transform=\"translate(90.21125 132.618906)scale(0.1 -0.1)\">\n       <use xlink:href=\"#DejaVuSans-50\"/>\n       <use x=\"63.623047\" xlink:href=\"#DejaVuSans-48\"/>\n      </g>\n     </g>\n    </g>\n   </g>\n   <g id=\"matplotlib.axis_2\">\n    <g id=\"ytick_1\">\n     <g id=\"line2d_3\">\n      <defs>\n       <path d=\"M 0 0 \nL -3.5 0 \n\" id=\"m71412614c1\" style=\"stroke:#000000;stroke-width:0.8;\"/>\n      </defs>\n      <g>\n       <use style=\"stroke:#000000;stroke-width:0.8;\" x=\"26.925\" xlink:href=\"#m71412614c1\" y=\"10.999219\"/>\n      </g>\n     </g>\n     <g id=\"text_3\">\n      <!-- 0 -->\n      <g transform=\"translate(13.5625 14.798437)scale(0.1 -0.1)\">\n       <use xlink:href=\"#DejaVuSans-48\"/>\n      </g>\n     </g>\n    </g>\n    <g id=\"ytick_2\">\n     <g id=\"line2d_4\">\n      <g>\n       <use style=\"stroke:#000000;stroke-width:0.8;\" x=\"26.925\" xlink:href=\"#m71412614c1\" y=\"44.974219\"/>\n      </g>\n     </g>\n     <g id=\"text_4\">\n      <!-- 10 -->\n      <defs>\n       <path d=\"M 12.40625 8.296875 \nL 28.515625 8.296875 \nL 28.515625 63.921875 \nL 10.984375 60.40625 \nL 10.984375 69.390625 \nL 28.421875 72.90625 \nL 38.28125 72.90625 \nL 38.28125 8.296875 \nL 54.390625 8.296875 \nL 54.390625 0 \nL 12.40625 0 \nz\n\" id=\"DejaVuSans-49\"/>\n      </defs>\n      <g transform=\"translate(7.2 48.773437)scale(0.1 -0.1)\">\n       <use xlink:href=\"#DejaVuSans-49\"/>\n       <use x=\"63.623047\" xlink:href=\"#DejaVuSans-48\"/>\n      </g>\n     </g>\n    </g>\n    <g id=\"ytick_3\">\n     <g id=\"line2d_5\">\n      <g>\n       <use style=\"stroke:#000000;stroke-width:0.8;\" x=\"26.925\" xlink:href=\"#m71412614c1\" y=\"78.949219\"/>\n      </g>\n     </g>\n     <g id=\"text_5\">\n      <!-- 20 -->\n      <g transform=\"translate(7.2 82.748437)scale(0.1 -0.1)\">\n       <use xlink:href=\"#DejaVuSans-50\"/>\n       <use x=\"63.623047\" xlink:href=\"#DejaVuSans-48\"/>\n      </g>\n     </g>\n    </g>\n    <g id=\"ytick_4\">\n     <g id=\"line2d_6\">\n      <g>\n       <use style=\"stroke:#000000;stroke-width:0.8;\" x=\"26.925\" xlink:href=\"#m71412614c1\" y=\"112.924219\"/>\n      </g>\n     </g>\n     <g id=\"text_6\">\n      <!-- 30 -->\n      <defs>\n       <path d=\"M 40.578125 39.3125 \nQ 47.65625 37.796875 51.625 33 \nQ 55.609375 28.21875 55.609375 21.1875 \nQ 55.609375 10.40625 48.1875 4.484375 \nQ 40.765625 -1.421875 27.09375 -1.421875 \nQ 22.515625 -1.421875 17.65625 -0.515625 \nQ 12.796875 0.390625 7.625 2.203125 \nL 7.625 11.71875 \nQ 11.71875 9.328125 16.59375 8.109375 \nQ 21.484375 6.890625 26.8125 6.890625 \nQ 36.078125 6.890625 40.9375 10.546875 \nQ 45.796875 14.203125 45.796875 21.1875 \nQ 45.796875 27.640625 41.28125 31.265625 \nQ 36.765625 34.90625 28.71875 34.90625 \nL 20.21875 34.90625 \nL 20.21875 43.015625 \nL 29.109375 43.015625 \nQ 36.375 43.015625 40.234375 45.921875 \nQ 44.09375 48.828125 44.09375 54.296875 \nQ 44.09375 59.90625 40.109375 62.90625 \nQ 36.140625 65.921875 28.71875 65.921875 \nQ 24.65625 65.921875 20.015625 65.03125 \nQ 15.375 64.15625 9.8125 62.3125 \nL 9.8125 71.09375 \nQ 15.4375 72.65625 20.34375 73.4375 \nQ 25.25 74.21875 29.59375 74.21875 \nQ 40.828125 74.21875 47.359375 69.109375 \nQ 53.90625 64.015625 53.90625 55.328125 \nQ 53.90625 49.265625 50.4375 45.09375 \nQ 46.96875 40.921875 40.578125 39.3125 \nz\n\" id=\"DejaVuSans-51\"/>\n      </defs>\n      <g transform=\"translate(7.2 116.723437)scale(0.1 -0.1)\">\n       <use xlink:href=\"#DejaVuSans-51\"/>\n       <use x=\"63.623047\" xlink:href=\"#DejaVuSans-48\"/>\n      </g>\n     </g>\n    </g>\n   </g>\n   <g id=\"patch_3\">\n    <path d=\"M 26.925 118.020469 \nL 26.925 9.300469 \n\" style=\"fill:none;stroke:#000000;stroke-linecap:square;stroke-linejoin:miter;stroke-width:0.8;\"/>\n   </g>\n   <g id=\"patch_4\">\n    <path d=\"M 135.645 118.020469 \nL 135.645 9.300469 \n\" style=\"fill:none;stroke:#000000;stroke-linecap:square;stroke-linejoin:miter;stroke-width:0.8;\"/>\n   </g>\n   <g id=\"patch_5\">\n    <path d=\"M 26.925 118.020469 \nL 135.645 118.020469 \n\" style=\"fill:none;stroke:#000000;stroke-linecap:square;stroke-linejoin:miter;stroke-width:0.8;\"/>\n   </g>\n   <g id=\"patch_6\">\n    <path d=\"M 26.925 9.300469 \nL 135.645 9.300469 \n\" style=\"fill:none;stroke:#000000;stroke-linecap:square;stroke-linejoin:miter;stroke-width:0.8;\"/>\n   </g>\n  </g>\n </g>\n <defs>\n  <clipPath id=\"pe15e399230\">\n   <rect height=\"108.72\" width=\"108.72\" x=\"26.925\" y=\"9.300469\"/>\n  </clipPath>\n </defs>\n</svg>\n",
      "text/plain": "<Figure size 144x144 with 1 Axes>"
     },
     "metadata": {
      "needs_background": "light"
     },
     "output_type": "display_data"
    }
   ],
   "source": [
    "### Data exploration visualization code goes here.\n",
    "### Feel free to use as many code cells as needed.\n",
    "import matplotlib.pyplot as plt\n",
    "# Visualizations will be shown in the notebook.\n",
    "%matplotlib inline\n",
    "\n",
    "i = np.random.randint(0, len(X_train))\n",
    "image = X_train[i].squeeze()\n",
    "\n",
    "plt.figure(figsize = (2,2))\n",
    "plt.imshow(image)\n",
    "print(\"Label for given image: \", y_train[i])"
   ]
  },
  {
   "cell_type": "code",
   "execution_count": 5,
   "metadata": {},
   "outputs": [
    {
     "data": {
      "image/png": "[encoded data removed]",
      "image/svg+xml": "<?xml version=\"1.0\" encoding=\"utf-8\" standalone=\"no\"?>\n<!DOCTYPE svg PUBLIC \"-//W3C//DTD SVG 1.1//EN\"\n  \"http://www.w3.org/Graphics/SVG/1.1/DTD/svg11.dtd\">\n<!-- Created with matplotlib (https://matplotlib.org/) -->\n<svg height=\"278.648646pt\" version=\"1.1\" viewBox=\"0 0 428.0375 278.648646\" width=\"428.0375pt\" xmlns=\"http://www.w3.org/2000/svg\" xmlns:xlink=\"http://www.w3.org/1999/xlink\">\n <defs>\n  <style type=\"text/css\">\n*{stroke-linecap:butt;stroke-linejoin:round;}\n  </style>\n </defs>\n <g id=\"figure_1\">\n  <g id=\"patch_1\">\n   <path d=\"M 0 278.648646 \nL 428.0375 278.648646 \nL 428.0375 0 \nL 0 0 \nz\n\" style=\"fill:none;\"/>\n  </g>\n  <g id=\"axes_1\">\n   <g id=\"patch_2\">\n    <path d=\"M 39.65 69.437188 \nL 420.8375 69.437188 \nL 420.8375 7.770521 \nL 39.65 7.770521 \nz\n\" style=\"fill:#ffffff;\"/>\n   </g>\n   <g id=\"patch_3\">\n    <path clip-path=\"url(#p8c7b7b497d)\" d=\"M 56.976705 69.437188 \nL 62.657591 69.437188 \nL 62.657591 64.17777 \nL 56.976705 64.17777 \nz\n\" style=\"fill:#1f77b4;\"/>\n   </g>\n   <g id=\"patch_4\">\n    <path clip-path=\"url(#p8c7b7b497d)\" d=\"M 65.092257 69.437188 \nL 70.773144 69.437188 \nL 70.773144 11.583598 \nL 65.092257 11.583598 \nz\n\" style=\"fill:#1f77b4;\"/>\n   </g>\n   <g id=\"patch_5\">\n    <path clip-path=\"url(#p8c7b7b497d)\" d=\"M 73.20781 69.437188 \nL 78.888696 69.437188 \nL 78.888696 10.707029 \nL 73.20781 10.707029 \nz\n\" style=\"fill:#1f77b4;\"/>\n   </g>\n   <g id=\"patch_6\">\n    <path clip-path=\"url(#p8c7b7b497d)\" d=\"M 81.323362 69.437188 \nL 87.004249 69.437188 \nL 87.004249 32.621267 \nL 81.323362 32.621267 \nz\n\" style=\"fill:#1f77b4;\"/>\n   </g>\n   <g id=\"patch_7\">\n    <path clip-path=\"url(#p8c7b7b497d)\" d=\"M 89.438914 69.437188 \nL 95.119801 69.437188 \nL 95.119801 17.719585 \nL 89.438914 17.719585 \nz\n\" style=\"fill:#1f77b4;\"/>\n   </g>\n   <g id=\"patch_8\">\n    <path clip-path=\"url(#p8c7b7b497d)\" d=\"M 97.554467 69.437188 \nL 103.235354 69.437188 \nL 103.235354 21.225863 \nL 97.554467 21.225863 \nz\n\" style=\"fill:#1f77b4;\"/>\n   </g>\n   <g id=\"patch_9\">\n    <path clip-path=\"url(#p8c7b7b497d)\" d=\"M 105.670019 69.437188 \nL 111.350906 69.437188 \nL 111.350906 58.918353 \nL 105.670019 58.918353 \nz\n\" style=\"fill:#1f77b4;\"/>\n   </g>\n   <g id=\"patch_10\">\n    <path clip-path=\"url(#p8c7b7b497d)\" d=\"M 113.785572 69.437188 \nL 119.466459 69.437188 \nL 119.466459 31.744698 \nL 113.785572 31.744698 \nz\n\" style=\"fill:#1f77b4;\"/>\n   </g>\n   <g id=\"patch_11\">\n    <path clip-path=\"url(#p8c7b7b497d)\" d=\"M 121.901124 69.437188 \nL 127.582011 69.437188 \nL 127.582011 32.621267 \nL 121.901124 32.621267 \nz\n\" style=\"fill:#1f77b4;\"/>\n   </g>\n   <g id=\"patch_12\">\n    <path clip-path=\"url(#p8c7b7b497d)\" d=\"M 130.016677 69.437188 \nL 135.697564 69.437188 \nL 135.697564 30.868128 \nL 130.016677 30.868128 \nz\n\" style=\"fill:#1f77b4;\"/>\n   </g>\n   <g id=\"patch_13\">\n    <path clip-path=\"url(#p8c7b7b497d)\" d=\"M 138.132229 69.437188 \nL 143.813116 69.437188 \nL 143.813116 16.843016 \nL 138.132229 16.843016 \nz\n\" style=\"fill:#1f77b4;\"/>\n   </g>\n   <g id=\"patch_14\">\n    <path clip-path=\"url(#p8c7b7b497d)\" d=\"M 146.247782 69.437188 \nL 151.928669 69.437188 \nL 151.928669 35.250976 \nL 146.247782 35.250976 \nz\n\" style=\"fill:#1f77b4;\"/>\n   </g>\n   <g id=\"patch_15\">\n    <path clip-path=\"url(#p8c7b7b497d)\" d=\"M 154.363334 69.437188 \nL 160.044221 69.437188 \nL 160.044221 14.213307 \nL 154.363334 14.213307 \nz\n\" style=\"fill:#1f77b4;\"/>\n   </g>\n   <g id=\"patch_16\">\n    <path clip-path=\"url(#p8c7b7b497d)\" d=\"M 162.478887 69.437188 \nL 168.159774 69.437188 \nL 168.159774 13.336738 \nL 162.478887 13.336738 \nz\n\" style=\"fill:#1f77b4;\"/>\n   </g>\n   <g id=\"patch_17\">\n    <path clip-path=\"url(#p8c7b7b497d)\" d=\"M 170.594439 69.437188 \nL 176.275326 69.437188 \nL 176.275326 49.276088 \nL 170.594439 49.276088 \nz\n\" style=\"fill:#1f77b4;\"/>\n   </g>\n   <g id=\"patch_18\">\n    <path clip-path=\"url(#p8c7b7b497d)\" d=\"M 178.709992 69.437188 \nL 184.390878 69.437188 \nL 184.390878 53.658936 \nL 178.709992 53.658936 \nz\n\" style=\"fill:#1f77b4;\"/>\n   </g>\n   <g id=\"patch_19\">\n    <path clip-path=\"url(#p8c7b7b497d)\" d=\"M 186.825544 69.437188 \nL 192.506431 69.437188 \nL 192.506431 58.918353 \nL 186.825544 58.918353 \nz\n\" style=\"fill:#1f77b4;\"/>\n   </g>\n   <g id=\"patch_20\">\n    <path clip-path=\"url(#p8c7b7b497d)\" d=\"M 194.941097 69.437188 \nL 200.621983 69.437188 \nL 200.621983 40.510393 \nL 194.941097 40.510393 \nz\n\" style=\"fill:#1f77b4;\"/>\n   </g>\n   <g id=\"patch_21\">\n    <path clip-path=\"url(#p8c7b7b497d)\" d=\"M 203.056649 69.437188 \nL 208.737536 69.437188 \nL 208.737536 37.880684 \nL 203.056649 37.880684 \nz\n\" style=\"fill:#1f77b4;\"/>\n   </g>\n   <g id=\"patch_22\">\n    <path clip-path=\"url(#p8c7b7b497d)\" d=\"M 211.172202 69.437188 \nL 216.853088 69.437188 \nL 216.853088 64.17777 \nL 211.172202 64.17777 \nz\n\" style=\"fill:#1f77b4;\"/>\n   </g>\n   <g id=\"patch_23\">\n    <path clip-path=\"url(#p8c7b7b497d)\" d=\"M 219.287754 69.437188 \nL 224.968641 69.437188 \nL 224.968641 60.671492 \nL 219.287754 60.671492 \nz\n\" style=\"fill:#1f77b4;\"/>\n   </g>\n   <g id=\"patch_24\">\n    <path clip-path=\"url(#p8c7b7b497d)\" d=\"M 227.403307 69.437188 \nL 233.084193 69.437188 \nL 233.084193 61.548062 \nL 227.403307 61.548062 \nz\n\" style=\"fill:#1f77b4;\"/>\n   </g>\n   <g id=\"patch_25\">\n    <path clip-path=\"url(#p8c7b7b497d)\" d=\"M 235.518859 69.437188 \nL 241.199746 69.437188 \nL 241.199746 59.794923 \nL 235.518859 59.794923 \nz\n\" style=\"fill:#1f77b4;\"/>\n   </g>\n   <g id=\"patch_26\">\n    <path clip-path=\"url(#p8c7b7b497d)\" d=\"M 243.634412 69.437188 \nL 249.315298 69.437188 \nL 249.315298 56.288645 \nL 243.634412 56.288645 \nz\n\" style=\"fill:#1f77b4;\"/>\n   </g>\n   <g id=\"patch_27\">\n    <path clip-path=\"url(#p8c7b7b497d)\" d=\"M 251.749964 69.437188 \nL 257.430851 69.437188 \nL 257.430851 62.424631 \nL 251.749964 62.424631 \nz\n\" style=\"fill:#1f77b4;\"/>\n   </g>\n   <g id=\"patch_28\">\n    <path clip-path=\"url(#p8c7b7b497d)\" d=\"M 259.865517 69.437188 \nL 265.546403 69.437188 \nL 265.546403 29.991559 \nL 259.865517 29.991559 \nz\n\" style=\"fill:#1f77b4;\"/>\n   </g>\n   <g id=\"patch_29\">\n    <path clip-path=\"url(#p8c7b7b497d)\" d=\"M 267.981069 69.437188 \nL 273.661956 69.437188 \nL 273.661956 53.658936 \nL 267.981069 53.658936 \nz\n\" style=\"fill:#1f77b4;\"/>\n   </g>\n   <g id=\"patch_30\">\n    <path clip-path=\"url(#p8c7b7b497d)\" d=\"M 276.096622 69.437188 \nL 281.777508 69.437188 \nL 281.777508 63.301201 \nL 276.096622 63.301201 \nz\n\" style=\"fill:#1f77b4;\"/>\n   </g>\n   <g id=\"patch_31\">\n    <path clip-path=\"url(#p8c7b7b497d)\" d=\"M 284.212174 69.437188 \nL 289.893061 69.437188 \nL 289.893061 55.412075 \nL 284.212174 55.412075 \nz\n\" style=\"fill:#1f77b4;\"/>\n   </g>\n   <g id=\"patch_32\">\n    <path clip-path=\"url(#p8c7b7b497d)\" d=\"M 292.327726 69.437188 \nL 298.008613 69.437188 \nL 298.008613 62.424631 \nL 292.327726 62.424631 \nz\n\" style=\"fill:#1f77b4;\"/>\n   </g>\n   <g id=\"patch_33\">\n    <path clip-path=\"url(#p8c7b7b497d)\" d=\"M 300.443279 69.437188 \nL 306.124166 69.437188 \nL 306.124166 58.041784 \nL 300.443279 58.041784 \nz\n\" style=\"fill:#1f77b4;\"/>\n   </g>\n   <g id=\"patch_34\">\n    <path clip-path=\"url(#p8c7b7b497d)\" d=\"M 308.558831 69.437188 \nL 314.239718 69.437188 \nL 314.239718 49.276088 \nL 308.558831 49.276088 \nz\n\" style=\"fill:#1f77b4;\"/>\n   </g>\n   <g id=\"patch_35\">\n    <path clip-path=\"url(#p8c7b7b497d)\" d=\"M 316.674384 69.437188 \nL 322.355271 69.437188 \nL 322.355271 63.301201 \nL 316.674384 63.301201 \nz\n\" style=\"fill:#1f77b4;\"/>\n   </g>\n   <g id=\"patch_36\">\n    <path clip-path=\"url(#p8c7b7b497d)\" d=\"M 324.789936 69.437188 \nL 330.470823 69.437188 \nL 330.470823 51.935016 \nL 324.789936 51.935016 \nz\n\" style=\"fill:#1f77b4;\"/>\n   </g>\n   <g id=\"patch_37\">\n    <path clip-path=\"url(#p8c7b7b497d)\" d=\"M 332.905489 69.437188 \nL 338.586376 69.437188 \nL 338.586376 58.918353 \nL 332.905489 58.918353 \nz\n\" style=\"fill:#1f77b4;\"/>\n   </g>\n   <g id=\"patch_38\">\n    <path clip-path=\"url(#p8c7b7b497d)\" d=\"M 341.021041 69.437188 \nL 346.701928 69.437188 \nL 346.701928 37.880684 \nL 341.021041 37.880684 \nz\n\" style=\"fill:#1f77b4;\"/>\n   </g>\n   <g id=\"patch_39\">\n    <path clip-path=\"url(#p8c7b7b497d)\" d=\"M 349.136594 69.437188 \nL 354.817481 69.437188 \nL 354.817481 59.794923 \nL 349.136594 59.794923 \nz\n\" style=\"fill:#1f77b4;\"/>\n   </g>\n   <g id=\"patch_40\">\n    <path clip-path=\"url(#p8c7b7b497d)\" d=\"M 357.252146 69.437188 \nL 362.933033 69.437188 \nL 362.933033 64.17777 \nL 357.252146 64.17777 \nz\n\" style=\"fill:#1f77b4;\"/>\n   </g>\n   <g id=\"patch_41\">\n    <path clip-path=\"url(#p8c7b7b497d)\" d=\"M 365.367699 69.437188 \nL 371.048586 69.437188 \nL 371.048586 15.089877 \nL 365.367699 15.089877 \nz\n\" style=\"fill:#1f77b4;\"/>\n   </g>\n   <g id=\"patch_42\">\n    <path clip-path=\"url(#p8c7b7b497d)\" d=\"M 373.483251 69.437188 \nL 379.164138 69.437188 \nL 379.164138 61.548062 \nL 373.483251 61.548062 \nz\n\" style=\"fill:#1f77b4;\"/>\n   </g>\n   <g id=\"patch_43\">\n    <path clip-path=\"url(#p8c7b7b497d)\" d=\"M 381.598804 69.437188 \nL 387.27969 69.437188 \nL 387.27969 60.671492 \nL 381.598804 60.671492 \nz\n\" style=\"fill:#1f77b4;\"/>\n   </g>\n   <g id=\"patch_44\">\n    <path clip-path=\"url(#p8c7b7b497d)\" d=\"M 389.714356 69.437188 \nL 395.395243 69.437188 \nL 395.395243 63.301201 \nL 389.714356 63.301201 \nz\n\" style=\"fill:#1f77b4;\"/>\n   </g>\n   <g id=\"patch_45\">\n    <path clip-path=\"url(#p8c7b7b497d)\" d=\"M 397.829909 69.437188 \nL 403.510795 69.437188 \nL 403.510795 63.301201 \nL 397.829909 63.301201 \nz\n\" style=\"fill:#1f77b4;\"/>\n   </g>\n   <g id=\"matplotlib.axis_1\">\n    <g id=\"xtick_1\">\n     <g id=\"line2d_1\">\n      <defs>\n       <path d=\"M 0 0 \nL 0 3.5 \n\" id=\"m787ad6519c\" style=\"stroke:#000000;stroke-width:0.8;\"/>\n      </defs>\n      <g>\n       <use style=\"stroke:#000000;stroke-width:0.8;\" x=\"55.759372\" xlink:href=\"#m787ad6519c\" y=\"69.437188\"/>\n      </g>\n     </g>\n     <g id=\"text_1\">\n      <!-- 0 -->\n      <defs>\n       <path d=\"M 31.78125 66.40625 \nQ 24.171875 66.40625 20.328125 58.90625 \nQ 16.5 51.421875 16.5 36.375 \nQ 16.5 21.390625 20.328125 13.890625 \nQ 24.171875 6.390625 31.78125 6.390625 \nQ 39.453125 6.390625 43.28125 13.890625 \nQ 47.125 21.390625 47.125 36.375 \nQ 47.125 51.421875 43.28125 58.90625 \nQ 39.453125 66.40625 31.78125 66.40625 \nz\nM 31.78125 74.21875 \nQ 44.046875 74.21875 50.515625 64.515625 \nQ 56.984375 54.828125 56.984375 36.375 \nQ 56.984375 17.96875 50.515625 8.265625 \nQ 44.046875 -1.421875 31.78125 -1.421875 \nQ 19.53125 -1.421875 13.0625 8.265625 \nQ 6.59375 17.96875 6.59375 36.375 \nQ 6.59375 54.828125 13.0625 64.515625 \nQ 19.53125 74.21875 31.78125 74.21875 \nz\n\" id=\"DejaVuSans-48\"/>\n      </defs>\n      <g transform=\"translate(52.578122 84.035625)scale(0.1 -0.1)\">\n       <use xlink:href=\"#DejaVuSans-48\"/>\n      </g>\n     </g>\n    </g>\n    <g id=\"xtick_2\">\n     <g id=\"line2d_2\">\n      <g>\n       <use style=\"stroke:#000000;stroke-width:0.8;\" x=\"138.847171\" xlink:href=\"#m787ad6519c\" y=\"69.437188\"/>\n      </g>\n     </g>\n     <g id=\"text_2\">\n      <!-- 10 -->\n      <defs>\n       <path d=\"M 12.40625 8.296875 \nL 28.515625 8.296875 \nL 28.515625 63.921875 \nL 10.984375 60.40625 \nL 10.984375 69.390625 \nL 28.421875 72.90625 \nL 38.28125 72.90625 \nL 38.28125 8.296875 \nL 54.390625 8.296875 \nL 54.390625 0 \nL 12.40625 0 \nz\n\" id=\"DejaVuSans-49\"/>\n      </defs>\n      <g transform=\"translate(132.484671 84.035625)scale(0.1 -0.1)\">\n       <use xlink:href=\"#DejaVuSans-49\"/>\n       <use x=\"63.623047\" xlink:href=\"#DejaVuSans-48\"/>\n      </g>\n     </g>\n    </g>\n    <g id=\"xtick_3\">\n     <g id=\"line2d_3\">\n      <g>\n       <use style=\"stroke:#000000;stroke-width:0.8;\" x=\"221.93497\" xlink:href=\"#m787ad6519c\" y=\"69.437188\"/>\n      </g>\n     </g>\n     <g id=\"text_3\">\n      <!-- 20 -->\n      <defs>\n       <path d=\"M 19.1875 8.296875 \nL 53.609375 8.296875 \nL 53.609375 0 \nL 7.328125 0 \nL 7.328125 8.296875 \nQ 12.9375 14.109375 22.625 23.890625 \nQ 32.328125 33.6875 34.8125 36.53125 \nQ 39.546875 41.84375 41.421875 45.53125 \nQ 43.3125 49.21875 43.3125 52.78125 \nQ 43.3125 58.59375 39.234375 62.25 \nQ 35.15625 65.921875 28.609375 65.921875 \nQ 23.96875 65.921875 18.8125 64.3125 \nQ 13.671875 62.703125 7.8125 59.421875 \nL 7.8125 69.390625 \nQ 13.765625 71.78125 18.9375 73 \nQ 24.125 74.21875 28.421875 74.21875 \nQ 39.75 74.21875 46.484375 68.546875 \nQ 53.21875 62.890625 53.21875 53.421875 \nQ 53.21875 48.921875 51.53125 44.890625 \nQ 49.859375 40.875 45.40625 35.40625 \nQ 44.1875 33.984375 37.640625 27.21875 \nQ 31.109375 20.453125 19.1875 8.296875 \nz\n\" id=\"DejaVuSans-50\"/>\n      </defs>\n      <g transform=\"translate(215.57247 84.035625)scale(0.1 -0.1)\">\n       <use xlink:href=\"#DejaVuSans-50\"/>\n       <use x=\"63.623047\" xlink:href=\"#DejaVuSans-48\"/>\n      </g>\n     </g>\n    </g>\n    <g id=\"xtick_4\">\n     <g id=\"line2d_4\">\n      <g>\n       <use style=\"stroke:#000000;stroke-width:0.8;\" x=\"305.022769\" xlink:href=\"#m787ad6519c\" y=\"69.437188\"/>\n      </g>\n     </g>\n     <g id=\"text_4\">\n      <!-- 30 -->\n      <defs>\n       <path d=\"M 40.578125 39.3125 \nQ 47.65625 37.796875 51.625 33 \nQ 55.609375 28.21875 55.609375 21.1875 \nQ 55.609375 10.40625 48.1875 4.484375 \nQ 40.765625 -1.421875 27.09375 -1.421875 \nQ 22.515625 -1.421875 17.65625 -0.515625 \nQ 12.796875 0.390625 7.625 2.203125 \nL 7.625 11.71875 \nQ 11.71875 9.328125 16.59375 8.109375 \nQ 21.484375 6.890625 26.8125 6.890625 \nQ 36.078125 6.890625 40.9375 10.546875 \nQ 45.796875 14.203125 45.796875 21.1875 \nQ 45.796875 27.640625 41.28125 31.265625 \nQ 36.765625 34.90625 28.71875 34.90625 \nL 20.21875 34.90625 \nL 20.21875 43.015625 \nL 29.109375 43.015625 \nQ 36.375 43.015625 40.234375 45.921875 \nQ 44.09375 48.828125 44.09375 54.296875 \nQ 44.09375 59.90625 40.109375 62.90625 \nQ 36.140625 65.921875 28.71875 65.921875 \nQ 24.65625 65.921875 20.015625 65.03125 \nQ 15.375 64.15625 9.8125 62.3125 \nL 9.8125 71.09375 \nQ 15.4375 72.65625 20.34375 73.4375 \nQ 25.25 74.21875 29.59375 74.21875 \nQ 40.828125 74.21875 47.359375 69.109375 \nQ 53.90625 64.015625 53.90625 55.328125 \nQ 53.90625 49.265625 50.4375 45.09375 \nQ 46.96875 40.921875 40.578125 39.3125 \nz\n\" id=\"DejaVuSans-51\"/>\n      </defs>\n      <g transform=\"translate(298.660269 84.035625)scale(0.1 -0.1)\">\n       <use xlink:href=\"#DejaVuSans-51\"/>\n       <use x=\"63.623047\" xlink:href=\"#DejaVuSans-48\"/>\n      </g>\n     </g>\n    </g>\n    <g id=\"xtick_5\">\n     <g id=\"line2d_5\">\n      <g>\n       <use style=\"stroke:#000000;stroke-width:0.8;\" x=\"388.110568\" xlink:href=\"#m787ad6519c\" y=\"69.437188\"/>\n      </g>\n     </g>\n     <g id=\"text_5\">\n      <!-- 40 -->\n      <defs>\n       <path d=\"M 37.796875 64.3125 \nL 12.890625 25.390625 \nL 37.796875 25.390625 \nz\nM 35.203125 72.90625 \nL 47.609375 72.90625 \nL 47.609375 25.390625 \nL 58.015625 25.390625 \nL 58.015625 17.1875 \nL 47.609375 17.1875 \nL 47.609375 0 \nL 37.796875 0 \nL 37.796875 17.1875 \nL 4.890625 17.1875 \nL 4.890625 26.703125 \nz\n\" id=\"DejaVuSans-52\"/>\n      </defs>\n      <g transform=\"translate(381.748068 84.035625)scale(0.1 -0.1)\">\n       <use xlink:href=\"#DejaVuSans-52\"/>\n       <use x=\"63.623047\" xlink:href=\"#DejaVuSans-48\"/>\n      </g>\n     </g>\n    </g>\n   </g>\n   <g id=\"matplotlib.axis_2\">\n    <g id=\"ytick_1\">\n     <g id=\"line2d_6\">\n      <defs>\n       <path d=\"M 0 0 \nL -3.5 0 \n\" id=\"mb862f3f0fc\" style=\"stroke:#000000;stroke-width:0.8;\"/>\n      </defs>\n      <g>\n       <use style=\"stroke:#000000;stroke-width:0.8;\" x=\"39.65\" xlink:href=\"#mb862f3f0fc\" y=\"69.437188\"/>\n      </g>\n     </g>\n     <g id=\"text_6\">\n      <!-- 0 -->\n      <g transform=\"translate(26.2875 73.236406)scale(0.1 -0.1)\">\n       <use xlink:href=\"#DejaVuSans-48\"/>\n      </g>\n     </g>\n    </g>\n    <g id=\"ytick_2\">\n     <g id=\"line2d_7\">\n      <g>\n       <use style=\"stroke:#000000;stroke-width:0.8;\" x=\"39.65\" xlink:href=\"#mb862f3f0fc\" y=\"40.218203\"/>\n      </g>\n     </g>\n     <g id=\"text_7\">\n      <!-- 1000 -->\n      <g transform=\"translate(7.2 44.017422)scale(0.1 -0.1)\">\n       <use xlink:href=\"#DejaVuSans-49\"/>\n       <use x=\"63.623047\" xlink:href=\"#DejaVuSans-48\"/>\n       <use x=\"127.246094\" xlink:href=\"#DejaVuSans-48\"/>\n       <use x=\"190.869141\" xlink:href=\"#DejaVuSans-48\"/>\n      </g>\n     </g>\n    </g>\n    <g id=\"ytick_3\">\n     <g id=\"line2d_8\">\n      <g>\n       <use style=\"stroke:#000000;stroke-width:0.8;\" x=\"39.65\" xlink:href=\"#mb862f3f0fc\" y=\"10.999219\"/>\n      </g>\n     </g>\n     <g id=\"text_8\">\n      <!-- 2000 -->\n      <g transform=\"translate(7.2 14.798437)scale(0.1 -0.1)\">\n       <use xlink:href=\"#DejaVuSans-50\"/>\n       <use x=\"63.623047\" xlink:href=\"#DejaVuSans-48\"/>\n       <use x=\"127.246094\" xlink:href=\"#DejaVuSans-48\"/>\n       <use x=\"190.869141\" xlink:href=\"#DejaVuSans-48\"/>\n      </g>\n     </g>\n    </g>\n   </g>\n   <g id=\"patch_46\">\n    <path d=\"M 39.65 69.437188 \nL 39.65 7.770521 \n\" style=\"fill:none;stroke:#000000;stroke-linecap:square;stroke-linejoin:miter;stroke-width:0.8;\"/>\n   </g>\n   <g id=\"patch_47\">\n    <path d=\"M 420.8375 69.437188 \nL 420.8375 7.770521 \n\" style=\"fill:none;stroke:#000000;stroke-linecap:square;stroke-linejoin:miter;stroke-width:0.8;\"/>\n   </g>\n   <g id=\"patch_48\">\n    <path d=\"M 39.65 69.437188 \nL 420.8375 69.437188 \n\" style=\"fill:none;stroke:#000000;stroke-linecap:square;stroke-linejoin:miter;stroke-width:0.8;\"/>\n   </g>\n   <g id=\"patch_49\">\n    <path d=\"M 39.65 7.770521 \nL 420.8375 7.770521 \n\" style=\"fill:none;stroke:#000000;stroke-linecap:square;stroke-linejoin:miter;stroke-width:0.8;\"/>\n   </g>\n  </g>\n  <g id=\"axes_2\">\n   <g id=\"patch_50\">\n    <path d=\"M 39.65 162.103854 \nL 420.8375 162.103854 \nL 420.8375 100.437188 \nL 39.65 100.437188 \nz\n\" style=\"fill:#ffffff;\"/>\n   </g>\n   <g id=\"patch_51\">\n    <path clip-path=\"url(#p93e599ffd8)\" d=\"M 56.976705 162.103854 \nL 62.657591 162.103854 \nL 62.657591 157.405442 \nL 56.976705 157.405442 \nz\n\" style=\"fill:#1f77b4;\"/>\n   </g>\n   <g id=\"patch_52\">\n    <path clip-path=\"url(#p93e599ffd8)\" d=\"M 65.092257 162.103854 \nL 70.773144 162.103854 \nL 70.773144 105.722902 \nL 65.092257 105.722902 \nz\n\" style=\"fill:#1f77b4;\"/>\n   </g>\n   <g id=\"patch_53\">\n    <path clip-path=\"url(#p93e599ffd8)\" d=\"M 73.20781 162.103854 \nL 78.888696 162.103854 \nL 78.888696 103.373696 \nL 73.20781 103.373696 \nz\n\" style=\"fill:#1f77b4;\"/>\n   </g>\n   <g id=\"patch_54\">\n    <path clip-path=\"url(#p93e599ffd8)\" d=\"M 81.323362 162.103854 \nL 87.004249 162.103854 \nL 87.004249 126.865759 \nL 81.323362 126.865759 \nz\n\" style=\"fill:#1f77b4;\"/>\n   </g>\n   <g id=\"patch_55\">\n    <path clip-path=\"url(#p93e599ffd8)\" d=\"M 89.438914 162.103854 \nL 95.119801 162.103854 \nL 95.119801 110.421315 \nL 89.438914 110.421315 \nz\n\" style=\"fill:#1f77b4;\"/>\n   </g>\n   <g id=\"patch_56\">\n    <path clip-path=\"url(#p93e599ffd8)\" d=\"M 97.554467 162.103854 \nL 103.235354 162.103854 \nL 103.235354 112.770521 \nL 97.554467 112.770521 \nz\n\" style=\"fill:#1f77b4;\"/>\n   </g>\n   <g id=\"patch_57\">\n    <path clip-path=\"url(#p93e599ffd8)\" d=\"M 105.670019 162.103854 \nL 111.350906 162.103854 \nL 111.350906 150.357823 \nL 105.670019 150.357823 \nz\n\" style=\"fill:#1f77b4;\"/>\n   </g>\n   <g id=\"patch_58\">\n    <path clip-path=\"url(#p93e599ffd8)\" d=\"M 113.785572 162.103854 \nL 119.466459 162.103854 \nL 119.466459 126.865759 \nL 113.785572 126.865759 \nz\n\" style=\"fill:#1f77b4;\"/>\n   </g>\n   <g id=\"patch_59\">\n    <path clip-path=\"url(#p93e599ffd8)\" d=\"M 121.901124 162.103854 \nL 127.582011 162.103854 \nL 127.582011 126.865759 \nL 121.901124 126.865759 \nz\n\" style=\"fill:#1f77b4;\"/>\n   </g>\n   <g id=\"patch_60\">\n    <path clip-path=\"url(#p93e599ffd8)\" d=\"M 130.016677 162.103854 \nL 135.697564 162.103854 \nL 135.697564 124.516553 \nL 130.016677 124.516553 \nz\n\" style=\"fill:#1f77b4;\"/>\n   </g>\n   <g id=\"patch_61\">\n    <path clip-path=\"url(#p93e599ffd8)\" d=\"M 138.132229 162.103854 \nL 143.813116 162.103854 \nL 143.813116 110.421315 \nL 138.132229 110.421315 \nz\n\" style=\"fill:#1f77b4;\"/>\n   </g>\n   <g id=\"patch_62\">\n    <path clip-path=\"url(#p93e599ffd8)\" d=\"M 146.247782 162.103854 \nL 151.928669 162.103854 \nL 151.928669 129.214965 \nL 146.247782 129.214965 \nz\n\" style=\"fill:#1f77b4;\"/>\n   </g>\n   <g id=\"patch_63\">\n    <path clip-path=\"url(#p93e599ffd8)\" d=\"M 154.363334 162.103854 \nL 160.044221 162.103854 \nL 160.044221 108.072108 \nL 154.363334 108.072108 \nz\n\" style=\"fill:#1f77b4;\"/>\n   </g>\n   <g id=\"patch_64\">\n    <path clip-path=\"url(#p93e599ffd8)\" d=\"M 162.478887 162.103854 \nL 168.159774 162.103854 \nL 168.159774 105.722902 \nL 162.478887 105.722902 \nz\n\" style=\"fill:#1f77b4;\"/>\n   </g>\n   <g id=\"patch_65\">\n    <path clip-path=\"url(#p93e599ffd8)\" d=\"M 170.594439 162.103854 \nL 176.275326 162.103854 \nL 176.275326 140.960997 \nL 170.594439 140.960997 \nz\n\" style=\"fill:#1f77b4;\"/>\n   </g>\n   <g id=\"patch_66\">\n    <path clip-path=\"url(#p93e599ffd8)\" d=\"M 178.709992 162.103854 \nL 184.390878 162.103854 \nL 184.390878 145.65941 \nL 178.709992 145.65941 \nz\n\" style=\"fill:#1f77b4;\"/>\n   </g>\n   <g id=\"patch_67\">\n    <path clip-path=\"url(#p93e599ffd8)\" d=\"M 186.825544 162.103854 \nL 192.506431 162.103854 \nL 192.506431 150.357823 \nL 186.825544 150.357823 \nz\n\" style=\"fill:#1f77b4;\"/>\n   </g>\n   <g id=\"patch_68\">\n    <path clip-path=\"url(#p93e599ffd8)\" d=\"M 194.941097 162.103854 \nL 200.621983 162.103854 \nL 200.621983 133.913378 \nL 194.941097 133.913378 \nz\n\" style=\"fill:#1f77b4;\"/>\n   </g>\n   <g id=\"patch_69\">\n    <path clip-path=\"url(#p93e599ffd8)\" d=\"M 203.056649 162.103854 \nL 208.737536 162.103854 \nL 208.737536 131.564172 \nL 203.056649 131.564172 \nz\n\" style=\"fill:#1f77b4;\"/>\n   </g>\n   <g id=\"patch_70\">\n    <path clip-path=\"url(#p93e599ffd8)\" d=\"M 211.172202 162.103854 \nL 216.853088 162.103854 \nL 216.853088 157.405442 \nL 211.172202 157.405442 \nz\n\" style=\"fill:#1f77b4;\"/>\n   </g>\n   <g id=\"patch_71\">\n    <path clip-path=\"url(#p93e599ffd8)\" d=\"M 219.287754 162.103854 \nL 224.968641 162.103854 \nL 224.968641 155.056235 \nL 219.287754 155.056235 \nz\n\" style=\"fill:#1f77b4;\"/>\n   </g>\n   <g id=\"patch_72\">\n    <path clip-path=\"url(#p93e599ffd8)\" d=\"M 227.403307 162.103854 \nL 233.084193 162.103854 \nL 233.084193 155.056235 \nL 227.403307 155.056235 \nz\n\" style=\"fill:#1f77b4;\"/>\n   </g>\n   <g id=\"patch_73\">\n    <path clip-path=\"url(#p93e599ffd8)\" d=\"M 235.518859 162.103854 \nL 241.199746 162.103854 \nL 241.199746 152.707029 \nL 235.518859 152.707029 \nz\n\" style=\"fill:#1f77b4;\"/>\n   </g>\n   <g id=\"patch_74\">\n    <path clip-path=\"url(#p93e599ffd8)\" d=\"M 243.634412 162.103854 \nL 249.315298 162.103854 \nL 249.315298 150.357823 \nL 243.634412 150.357823 \nz\n\" style=\"fill:#1f77b4;\"/>\n   </g>\n   <g id=\"patch_75\">\n    <path clip-path=\"url(#p93e599ffd8)\" d=\"M 251.749964 162.103854 \nL 257.430851 162.103854 \nL 257.430851 155.056235 \nL 251.749964 155.056235 \nz\n\" style=\"fill:#1f77b4;\"/>\n   </g>\n   <g id=\"patch_76\">\n    <path clip-path=\"url(#p93e599ffd8)\" d=\"M 259.865517 162.103854 \nL 265.546403 162.103854 \nL 265.546403 124.516553 \nL 259.865517 124.516553 \nz\n\" style=\"fill:#1f77b4;\"/>\n   </g>\n   <g id=\"patch_77\">\n    <path clip-path=\"url(#p93e599ffd8)\" d=\"M 267.981069 162.103854 \nL 273.661956 162.103854 \nL 273.661956 148.008616 \nL 267.981069 148.008616 \nz\n\" style=\"fill:#1f77b4;\"/>\n   </g>\n   <g id=\"patch_78\">\n    <path clip-path=\"url(#p93e599ffd8)\" d=\"M 276.096622 162.103854 \nL 281.777508 162.103854 \nL 281.777508 157.405442 \nL 276.096622 157.405442 \nz\n\" style=\"fill:#1f77b4;\"/>\n   </g>\n   <g id=\"patch_79\">\n    <path clip-path=\"url(#p93e599ffd8)\" d=\"M 284.212174 162.103854 \nL 289.893061 162.103854 \nL 289.893061 150.357823 \nL 284.212174 150.357823 \nz\n\" style=\"fill:#1f77b4;\"/>\n   </g>\n   <g id=\"patch_80\">\n    <path clip-path=\"url(#p93e599ffd8)\" d=\"M 292.327726 162.103854 \nL 298.008613 162.103854 \nL 298.008613 155.056235 \nL 292.327726 155.056235 \nz\n\" style=\"fill:#1f77b4;\"/>\n   </g>\n   <g id=\"patch_81\">\n    <path clip-path=\"url(#p93e599ffd8)\" d=\"M 300.443279 162.103854 \nL 306.124166 162.103854 \nL 306.124166 150.357823 \nL 300.443279 150.357823 \nz\n\" style=\"fill:#1f77b4;\"/>\n   </g>\n   <g id=\"patch_82\">\n    <path clip-path=\"url(#p93e599ffd8)\" d=\"M 308.558831 162.103854 \nL 314.239718 162.103854 \nL 314.239718 140.960997 \nL 308.558831 140.960997 \nz\n\" style=\"fill:#1f77b4;\"/>\n   </g>\n   <g id=\"patch_83\">\n    <path clip-path=\"url(#p93e599ffd8)\" d=\"M 316.674384 162.103854 \nL 322.355271 162.103854 \nL 322.355271 157.405442 \nL 316.674384 157.405442 \nz\n\" style=\"fill:#1f77b4;\"/>\n   </g>\n   <g id=\"patch_84\">\n    <path clip-path=\"url(#p93e599ffd8)\" d=\"M 324.789936 162.103854 \nL 330.470823 162.103854 \nL 330.470823 145.65941 \nL 324.789936 145.65941 \nz\n\" style=\"fill:#1f77b4;\"/>\n   </g>\n   <g id=\"patch_85\">\n    <path clip-path=\"url(#p93e599ffd8)\" d=\"M 332.905489 162.103854 \nL 338.586376 162.103854 \nL 338.586376 152.707029 \nL 332.905489 152.707029 \nz\n\" style=\"fill:#1f77b4;\"/>\n   </g>\n   <g id=\"patch_86\">\n    <path clip-path=\"url(#p93e599ffd8)\" d=\"M 341.021041 162.103854 \nL 346.701928 162.103854 \nL 346.701928 131.564172 \nL 341.021041 131.564172 \nz\n\" style=\"fill:#1f77b4;\"/>\n   </g>\n   <g id=\"patch_87\">\n    <path clip-path=\"url(#p93e599ffd8)\" d=\"M 349.136594 162.103854 \nL 354.817481 162.103854 \nL 354.817481 152.707029 \nL 349.136594 152.707029 \nz\n\" style=\"fill:#1f77b4;\"/>\n   </g>\n   <g id=\"patch_88\">\n    <path clip-path=\"url(#p93e599ffd8)\" d=\"M 357.252146 162.103854 \nL 362.933033 162.103854 \nL 362.933033 157.405442 \nL 357.252146 157.405442 \nz\n\" style=\"fill:#1f77b4;\"/>\n   </g>\n   <g id=\"patch_89\">\n    <path clip-path=\"url(#p93e599ffd8)\" d=\"M 365.367699 162.103854 \nL 371.048586 162.103854 \nL 371.048586 108.072108 \nL 365.367699 108.072108 \nz\n\" style=\"fill:#1f77b4;\"/>\n   </g>\n   <g id=\"patch_90\">\n    <path clip-path=\"url(#p93e599ffd8)\" d=\"M 373.483251 162.103854 \nL 379.164138 162.103854 \nL 379.164138 155.056235 \nL 373.483251 155.056235 \nz\n\" style=\"fill:#1f77b4;\"/>\n   </g>\n   <g id=\"patch_91\">\n    <path clip-path=\"url(#p93e599ffd8)\" d=\"M 381.598804 162.103854 \nL 387.27969 162.103854 \nL 387.27969 155.056235 \nL 381.598804 155.056235 \nz\n\" style=\"fill:#1f77b4;\"/>\n   </g>\n   <g id=\"patch_92\">\n    <path clip-path=\"url(#p93e599ffd8)\" d=\"M 389.714356 162.103854 \nL 395.395243 162.103854 \nL 395.395243 157.405442 \nL 389.714356 157.405442 \nz\n\" style=\"fill:#1f77b4;\"/>\n   </g>\n   <g id=\"patch_93\">\n    <path clip-path=\"url(#p93e599ffd8)\" d=\"M 397.829909 162.103854 \nL 403.510795 162.103854 \nL 403.510795 155.056235 \nL 397.829909 155.056235 \nz\n\" style=\"fill:#1f77b4;\"/>\n   </g>\n   <g id=\"matplotlib.axis_3\">\n    <g id=\"xtick_6\">\n     <g id=\"line2d_9\">\n      <g>\n       <use style=\"stroke:#000000;stroke-width:0.8;\" x=\"55.759372\" xlink:href=\"#m787ad6519c\" y=\"162.103854\"/>\n      </g>\n     </g>\n     <g id=\"text_9\">\n      <!-- 0 -->\n      <g transform=\"translate(52.578122 176.702292)scale(0.1 -0.1)\">\n       <use xlink:href=\"#DejaVuSans-48\"/>\n      </g>\n     </g>\n    </g>\n    <g id=\"xtick_7\">\n     <g id=\"line2d_10\">\n      <g>\n       <use style=\"stroke:#000000;stroke-width:0.8;\" x=\"138.847171\" xlink:href=\"#m787ad6519c\" y=\"162.103854\"/>\n      </g>\n     </g>\n     <g id=\"text_10\">\n      <!-- 10 -->\n      <g transform=\"translate(132.484671 176.702292)scale(0.1 -0.1)\">\n       <use xlink:href=\"#DejaVuSans-49\"/>\n       <use x=\"63.623047\" xlink:href=\"#DejaVuSans-48\"/>\n      </g>\n     </g>\n    </g>\n    <g id=\"xtick_8\">\n     <g id=\"line2d_11\">\n      <g>\n       <use style=\"stroke:#000000;stroke-width:0.8;\" x=\"221.93497\" xlink:href=\"#m787ad6519c\" y=\"162.103854\"/>\n      </g>\n     </g>\n     <g id=\"text_11\">\n      <!-- 20 -->\n      <g transform=\"translate(215.57247 176.702292)scale(0.1 -0.1)\">\n       <use xlink:href=\"#DejaVuSans-50\"/>\n       <use x=\"63.623047\" xlink:href=\"#DejaVuSans-48\"/>\n      </g>\n     </g>\n    </g>\n    <g id=\"xtick_9\">\n     <g id=\"line2d_12\">\n      <g>\n       <use style=\"stroke:#000000;stroke-width:0.8;\" x=\"305.022769\" xlink:href=\"#m787ad6519c\" y=\"162.103854\"/>\n      </g>\n     </g>\n     <g id=\"text_12\">\n      <!-- 30 -->\n      <g transform=\"translate(298.660269 176.702292)scale(0.1 -0.1)\">\n       <use xlink:href=\"#DejaVuSans-51\"/>\n       <use x=\"63.623047\" xlink:href=\"#DejaVuSans-48\"/>\n      </g>\n     </g>\n    </g>\n    <g id=\"xtick_10\">\n     <g id=\"line2d_13\">\n      <g>\n       <use style=\"stroke:#000000;stroke-width:0.8;\" x=\"388.110568\" xlink:href=\"#m787ad6519c\" y=\"162.103854\"/>\n      </g>\n     </g>\n     <g id=\"text_13\">\n      <!-- 40 -->\n      <g transform=\"translate(381.748068 176.702292)scale(0.1 -0.1)\">\n       <use xlink:href=\"#DejaVuSans-52\"/>\n       <use x=\"63.623047\" xlink:href=\"#DejaVuSans-48\"/>\n      </g>\n     </g>\n    </g>\n   </g>\n   <g id=\"matplotlib.axis_4\">\n    <g id=\"ytick_4\">\n     <g id=\"line2d_14\">\n      <g>\n       <use style=\"stroke:#000000;stroke-width:0.8;\" x=\"39.65\" xlink:href=\"#mb862f3f0fc\" y=\"162.103854\"/>\n      </g>\n     </g>\n     <g id=\"text_14\">\n      <!-- 0 -->\n      <g transform=\"translate(26.2875 165.903073)scale(0.1 -0.1)\">\n       <use xlink:href=\"#DejaVuSans-48\"/>\n      </g>\n     </g>\n    </g>\n    <g id=\"ytick_5\">\n     <g id=\"line2d_15\">\n      <g>\n       <use style=\"stroke:#000000;stroke-width:0.8;\" x=\"39.65\" xlink:href=\"#mb862f3f0fc\" y=\"122.950415\"/>\n      </g>\n     </g>\n     <g id=\"text_15\">\n      <!-- 500 -->\n      <defs>\n       <path d=\"M 10.796875 72.90625 \nL 49.515625 72.90625 \nL 49.515625 64.59375 \nL 19.828125 64.59375 \nL 19.828125 46.734375 \nQ 21.96875 47.46875 24.109375 47.828125 \nQ 26.265625 48.1875 28.421875 48.1875 \nQ 40.625 48.1875 47.75 41.5 \nQ 54.890625 34.8125 54.890625 23.390625 \nQ 54.890625 11.625 47.5625 5.09375 \nQ 40.234375 -1.421875 26.90625 -1.421875 \nQ 22.3125 -1.421875 17.546875 -0.640625 \nQ 12.796875 0.140625 7.71875 1.703125 \nL 7.71875 11.625 \nQ 12.109375 9.234375 16.796875 8.0625 \nQ 21.484375 6.890625 26.703125 6.890625 \nQ 35.15625 6.890625 40.078125 11.328125 \nQ 45.015625 15.765625 45.015625 23.390625 \nQ 45.015625 31 40.078125 35.4375 \nQ 35.15625 39.890625 26.703125 39.890625 \nQ 22.75 39.890625 18.8125 39.015625 \nQ 14.890625 38.140625 10.796875 36.28125 \nz\n\" id=\"DejaVuSans-53\"/>\n      </defs>\n      <g transform=\"translate(13.5625 126.749634)scale(0.1 -0.1)\">\n       <use xlink:href=\"#DejaVuSans-53\"/>\n       <use x=\"63.623047\" xlink:href=\"#DejaVuSans-48\"/>\n       <use x=\"127.246094\" xlink:href=\"#DejaVuSans-48\"/>\n      </g>\n     </g>\n    </g>\n   </g>\n   <g id=\"patch_94\">\n    <path d=\"M 39.65 162.103854 \nL 39.65 100.437188 \n\" style=\"fill:none;stroke:#000000;stroke-linecap:square;stroke-linejoin:miter;stroke-width:0.8;\"/>\n   </g>\n   <g id=\"patch_95\">\n    <path d=\"M 420.8375 162.103854 \nL 420.8375 100.437188 \n\" style=\"fill:none;stroke:#000000;stroke-linecap:square;stroke-linejoin:miter;stroke-width:0.8;\"/>\n   </g>\n   <g id=\"patch_96\">\n    <path d=\"M 39.65 162.103854 \nL 420.8375 162.103854 \n\" style=\"fill:none;stroke:#000000;stroke-linecap:square;stroke-linejoin:miter;stroke-width:0.8;\"/>\n   </g>\n   <g id=\"patch_97\">\n    <path d=\"M 39.65 100.437188 \nL 420.8375 100.437188 \n\" style=\"fill:none;stroke:#000000;stroke-linecap:square;stroke-linejoin:miter;stroke-width:0.8;\"/>\n   </g>\n  </g>\n  <g id=\"axes_3\">\n   <g id=\"patch_98\">\n    <path d=\"M 39.65 254.770521 \nL 420.8375 254.770521 \nL 420.8375 193.103854 \nL 39.65 193.103854 \nz\n\" style=\"fill:#ffffff;\"/>\n   </g>\n   <g id=\"patch_99\">\n    <path clip-path=\"url(#pc164eb80bb)\" d=\"M 56.976705 254.770521 \nL 62.657591 254.770521 \nL 62.657591 247.429251 \nL 56.976705 247.429251 \nz\n\" style=\"fill:#1f77b4;\"/>\n   </g>\n   <g id=\"patch_100\">\n    <path clip-path=\"url(#pc164eb80bb)\" d=\"M 65.092257 254.770521 \nL 70.773144 254.770521 \nL 70.773144 196.040362 \nL 65.092257 196.040362 \nz\n\" style=\"fill:#1f77b4;\"/>\n   </g>\n   <g id=\"patch_101\">\n    <path clip-path=\"url(#pc164eb80bb)\" d=\"M 73.20781 254.770521 \nL 78.888696 254.770521 \nL 78.888696 196.040362 \nL 73.20781 196.040362 \nz\n\" style=\"fill:#1f77b4;\"/>\n   </g>\n   <g id=\"patch_102\">\n    <path clip-path=\"url(#pc164eb80bb)\" d=\"M 81.323362 254.770521 \nL 87.004249 254.770521 \nL 87.004249 218.064172 \nL 81.323362 218.064172 \nz\n\" style=\"fill:#1f77b4;\"/>\n   </g>\n   <g id=\"patch_103\">\n    <path clip-path=\"url(#pc164eb80bb)\" d=\"M 89.438914 254.770521 \nL 95.119801 254.770521 \nL 95.119801 203.381632 \nL 89.438914 203.381632 \nz\n\" style=\"fill:#1f77b4;\"/>\n   </g>\n   <g id=\"patch_104\">\n    <path clip-path=\"url(#pc164eb80bb)\" d=\"M 97.554467 254.770521 \nL 103.235354 254.770521 \nL 103.235354 203.381632 \nL 97.554467 203.381632 \nz\n\" style=\"fill:#1f77b4;\"/>\n   </g>\n   <g id=\"patch_105\">\n    <path clip-path=\"url(#pc164eb80bb)\" d=\"M 105.670019 254.770521 \nL 111.350906 254.770521 \nL 111.350906 240.087981 \nL 105.670019 240.087981 \nz\n\" style=\"fill:#1f77b4;\"/>\n   </g>\n   <g id=\"patch_106\">\n    <path clip-path=\"url(#pc164eb80bb)\" d=\"M 113.785572 254.770521 \nL 119.466459 254.770521 \nL 119.466459 218.064172 \nL 113.785572 218.064172 \nz\n\" style=\"fill:#1f77b4;\"/>\n   </g>\n   <g id=\"patch_107\">\n    <path clip-path=\"url(#pc164eb80bb)\" d=\"M 121.901124 254.770521 \nL 127.582011 254.770521 \nL 127.582011 218.064172 \nL 121.901124 218.064172 \nz\n\" style=\"fill:#1f77b4;\"/>\n   </g>\n   <g id=\"patch_108\">\n    <path clip-path=\"url(#pc164eb80bb)\" d=\"M 130.016677 254.770521 \nL 135.697564 254.770521 \nL 135.697564 218.064172 \nL 130.016677 218.064172 \nz\n\" style=\"fill:#1f77b4;\"/>\n   </g>\n   <g id=\"patch_109\">\n    <path clip-path=\"url(#pc164eb80bb)\" d=\"M 138.132229 254.770521 \nL 143.813116 254.770521 \nL 143.813116 203.381632 \nL 138.132229 203.381632 \nz\n\" style=\"fill:#1f77b4;\"/>\n   </g>\n   <g id=\"patch_110\">\n    <path clip-path=\"url(#pc164eb80bb)\" d=\"M 146.247782 254.770521 \nL 151.928669 254.770521 \nL 151.928669 218.064172 \nL 146.247782 218.064172 \nz\n\" style=\"fill:#1f77b4;\"/>\n   </g>\n   <g id=\"patch_111\">\n    <path clip-path=\"url(#pc164eb80bb)\" d=\"M 154.363334 254.770521 \nL 160.044221 254.770521 \nL 160.044221 203.381632 \nL 154.363334 203.381632 \nz\n\" style=\"fill:#1f77b4;\"/>\n   </g>\n   <g id=\"patch_112\">\n    <path clip-path=\"url(#pc164eb80bb)\" d=\"M 162.478887 254.770521 \nL 168.159774 254.770521 \nL 168.159774 196.040362 \nL 162.478887 196.040362 \nz\n\" style=\"fill:#1f77b4;\"/>\n   </g>\n   <g id=\"patch_113\">\n    <path clip-path=\"url(#pc164eb80bb)\" d=\"M 170.594439 254.770521 \nL 176.275326 254.770521 \nL 176.275326 232.746711 \nL 170.594439 232.746711 \nz\n\" style=\"fill:#1f77b4;\"/>\n   </g>\n   <g id=\"patch_114\">\n    <path clip-path=\"url(#pc164eb80bb)\" d=\"M 178.709992 254.770521 \nL 184.390878 254.770521 \nL 184.390878 232.746711 \nL 178.709992 232.746711 \nz\n\" style=\"fill:#1f77b4;\"/>\n   </g>\n   <g id=\"patch_115\">\n    <path clip-path=\"url(#pc164eb80bb)\" d=\"M 186.825544 254.770521 \nL 192.506431 254.770521 \nL 192.506431 240.087981 \nL 186.825544 240.087981 \nz\n\" style=\"fill:#1f77b4;\"/>\n   </g>\n   <g id=\"patch_116\">\n    <path clip-path=\"url(#pc164eb80bb)\" d=\"M 194.941097 254.770521 \nL 200.621983 254.770521 \nL 200.621983 225.405442 \nL 194.941097 225.405442 \nz\n\" style=\"fill:#1f77b4;\"/>\n   </g>\n   <g id=\"patch_117\">\n    <path clip-path=\"url(#pc164eb80bb)\" d=\"M 203.056649 254.770521 \nL 208.737536 254.770521 \nL 208.737536 225.405442 \nL 203.056649 225.405442 \nz\n\" style=\"fill:#1f77b4;\"/>\n   </g>\n   <g id=\"patch_118\">\n    <path clip-path=\"url(#pc164eb80bb)\" d=\"M 211.172202 254.770521 \nL 216.853088 254.770521 \nL 216.853088 247.429251 \nL 211.172202 247.429251 \nz\n\" style=\"fill:#1f77b4;\"/>\n   </g>\n   <g id=\"patch_119\">\n    <path clip-path=\"url(#pc164eb80bb)\" d=\"M 219.287754 254.770521 \nL 224.968641 254.770521 \nL 224.968641 240.087981 \nL 219.287754 240.087981 \nz\n\" style=\"fill:#1f77b4;\"/>\n   </g>\n   <g id=\"patch_120\">\n    <path clip-path=\"url(#pc164eb80bb)\" d=\"M 227.403307 254.770521 \nL 233.084193 254.770521 \nL 233.084193 240.087981 \nL 227.403307 240.087981 \nz\n\" style=\"fill:#1f77b4;\"/>\n   </g>\n   <g id=\"patch_121\">\n    <path clip-path=\"url(#pc164eb80bb)\" d=\"M 235.518859 254.770521 \nL 241.199746 254.770521 \nL 241.199746 240.087981 \nL 235.518859 240.087981 \nz\n\" style=\"fill:#1f77b4;\"/>\n   </g>\n   <g id=\"patch_122\">\n    <path clip-path=\"url(#pc164eb80bb)\" d=\"M 243.634412 254.770521 \nL 249.315298 254.770521 \nL 249.315298 240.087981 \nL 243.634412 240.087981 \nz\n\" style=\"fill:#1f77b4;\"/>\n   </g>\n   <g id=\"patch_123\">\n    <path clip-path=\"url(#pc164eb80bb)\" d=\"M 251.749964 254.770521 \nL 257.430851 254.770521 \nL 257.430851 247.429251 \nL 251.749964 247.429251 \nz\n\" style=\"fill:#1f77b4;\"/>\n   </g>\n   <g id=\"patch_124\">\n    <path clip-path=\"url(#pc164eb80bb)\" d=\"M 259.865517 254.770521 \nL 265.546403 254.770521 \nL 265.546403 218.064172 \nL 259.865517 218.064172 \nz\n\" style=\"fill:#1f77b4;\"/>\n   </g>\n   <g id=\"patch_125\">\n    <path clip-path=\"url(#pc164eb80bb)\" d=\"M 267.981069 254.770521 \nL 273.661956 254.770521 \nL 273.661956 240.087981 \nL 267.981069 240.087981 \nz\n\" style=\"fill:#1f77b4;\"/>\n   </g>\n   <g id=\"patch_126\">\n    <path clip-path=\"url(#pc164eb80bb)\" d=\"M 276.096622 254.770521 \nL 281.777508 254.770521 \nL 281.777508 247.429251 \nL 276.096622 247.429251 \nz\n\" style=\"fill:#1f77b4;\"/>\n   </g>\n   <g id=\"patch_127\">\n    <path clip-path=\"url(#pc164eb80bb)\" d=\"M 284.212174 254.770521 \nL 289.893061 254.770521 \nL 289.893061 240.087981 \nL 284.212174 240.087981 \nz\n\" style=\"fill:#1f77b4;\"/>\n   </g>\n   <g id=\"patch_128\">\n    <path clip-path=\"url(#pc164eb80bb)\" d=\"M 292.327726 254.770521 \nL 298.008613 254.770521 \nL 298.008613 247.429251 \nL 292.327726 247.429251 \nz\n\" style=\"fill:#1f77b4;\"/>\n   </g>\n   <g id=\"patch_129\">\n    <path clip-path=\"url(#pc164eb80bb)\" d=\"M 300.443279 254.770521 \nL 306.124166 254.770521 \nL 306.124166 240.087981 \nL 300.443279 240.087981 \nz\n\" style=\"fill:#1f77b4;\"/>\n   </g>\n   <g id=\"patch_130\">\n    <path clip-path=\"url(#pc164eb80bb)\" d=\"M 308.558831 254.770521 \nL 314.239718 254.770521 \nL 314.239718 232.746711 \nL 308.558831 232.746711 \nz\n\" style=\"fill:#1f77b4;\"/>\n   </g>\n   <g id=\"patch_131\">\n    <path clip-path=\"url(#pc164eb80bb)\" d=\"M 316.674384 254.770521 \nL 322.355271 254.770521 \nL 322.355271 247.429251 \nL 316.674384 247.429251 \nz\n\" style=\"fill:#1f77b4;\"/>\n   </g>\n   <g id=\"patch_132\">\n    <path clip-path=\"url(#pc164eb80bb)\" d=\"M 324.789936 254.770521 \nL 330.470823 254.770521 \nL 330.470823 232.746711 \nL 324.789936 232.746711 \nz\n\" style=\"fill:#1f77b4;\"/>\n   </g>\n   <g id=\"patch_133\">\n    <path clip-path=\"url(#pc164eb80bb)\" d=\"M 332.905489 254.770521 \nL 338.586376 254.770521 \nL 338.586376 240.087981 \nL 332.905489 240.087981 \nz\n\" style=\"fill:#1f77b4;\"/>\n   </g>\n   <g id=\"patch_134\">\n    <path clip-path=\"url(#pc164eb80bb)\" d=\"M 341.021041 254.770521 \nL 346.701928 254.770521 \nL 346.701928 225.405442 \nL 341.021041 225.405442 \nz\n\" style=\"fill:#1f77b4;\"/>\n   </g>\n   <g id=\"patch_135\">\n    <path clip-path=\"url(#pc164eb80bb)\" d=\"M 349.136594 254.770521 \nL 354.817481 254.770521 \nL 354.817481 240.087981 \nL 349.136594 240.087981 \nz\n\" style=\"fill:#1f77b4;\"/>\n   </g>\n   <g id=\"patch_136\">\n    <path clip-path=\"url(#pc164eb80bb)\" d=\"M 357.252146 254.770521 \nL 362.933033 254.770521 \nL 362.933033 247.429251 \nL 357.252146 247.429251 \nz\n\" style=\"fill:#1f77b4;\"/>\n   </g>\n   <g id=\"patch_137\">\n    <path clip-path=\"url(#pc164eb80bb)\" d=\"M 365.367699 254.770521 \nL 371.048586 254.770521 \nL 371.048586 203.381632 \nL 365.367699 203.381632 \nz\n\" style=\"fill:#1f77b4;\"/>\n   </g>\n   <g id=\"patch_138\">\n    <path clip-path=\"url(#pc164eb80bb)\" d=\"M 373.483251 254.770521 \nL 379.164138 254.770521 \nL 379.164138 247.429251 \nL 373.483251 247.429251 \nz\n\" style=\"fill:#1f77b4;\"/>\n   </g>\n   <g id=\"patch_139\">\n    <path clip-path=\"url(#pc164eb80bb)\" d=\"M 381.598804 254.770521 \nL 387.27969 254.770521 \nL 387.27969 240.087981 \nL 381.598804 240.087981 \nz\n\" style=\"fill:#1f77b4;\"/>\n   </g>\n   <g id=\"patch_140\">\n    <path clip-path=\"url(#pc164eb80bb)\" d=\"M 389.714356 254.770521 \nL 395.395243 254.770521 \nL 395.395243 247.429251 \nL 389.714356 247.429251 \nz\n\" style=\"fill:#1f77b4;\"/>\n   </g>\n   <g id=\"patch_141\">\n    <path clip-path=\"url(#pc164eb80bb)\" d=\"M 397.829909 254.770521 \nL 403.510795 254.770521 \nL 403.510795 247.429251 \nL 397.829909 247.429251 \nz\n\" style=\"fill:#1f77b4;\"/>\n   </g>\n   <g id=\"matplotlib.axis_5\">\n    <g id=\"xtick_11\">\n     <g id=\"line2d_16\">\n      <g>\n       <use style=\"stroke:#000000;stroke-width:0.8;\" x=\"55.759372\" xlink:href=\"#m787ad6519c\" y=\"254.770521\"/>\n      </g>\n     </g>\n     <g id=\"text_16\">\n      <!-- 0 -->\n      <g transform=\"translate(52.578122 269.368958)scale(0.1 -0.1)\">\n       <use xlink:href=\"#DejaVuSans-48\"/>\n      </g>\n     </g>\n    </g>\n    <g id=\"xtick_12\">\n     <g id=\"line2d_17\">\n      <g>\n       <use style=\"stroke:#000000;stroke-width:0.8;\" x=\"138.847171\" xlink:href=\"#m787ad6519c\" y=\"254.770521\"/>\n      </g>\n     </g>\n     <g id=\"text_17\">\n      <!-- 10 -->\n      <g transform=\"translate(132.484671 269.368958)scale(0.1 -0.1)\">\n       <use xlink:href=\"#DejaVuSans-49\"/>\n       <use x=\"63.623047\" xlink:href=\"#DejaVuSans-48\"/>\n      </g>\n     </g>\n    </g>\n    <g id=\"xtick_13\">\n     <g id=\"line2d_18\">\n      <g>\n       <use style=\"stroke:#000000;stroke-width:0.8;\" x=\"221.93497\" xlink:href=\"#m787ad6519c\" y=\"254.770521\"/>\n      </g>\n     </g>\n     <g id=\"text_18\">\n      <!-- 20 -->\n      <g transform=\"translate(215.57247 269.368958)scale(0.1 -0.1)\">\n       <use xlink:href=\"#DejaVuSans-50\"/>\n       <use x=\"63.623047\" xlink:href=\"#DejaVuSans-48\"/>\n      </g>\n     </g>\n    </g>\n    <g id=\"xtick_14\">\n     <g id=\"line2d_19\">\n      <g>\n       <use style=\"stroke:#000000;stroke-width:0.8;\" x=\"305.022769\" xlink:href=\"#m787ad6519c\" y=\"254.770521\"/>\n      </g>\n     </g>\n     <g id=\"text_19\">\n      <!-- 30 -->\n      <g transform=\"translate(298.660269 269.368958)scale(0.1 -0.1)\">\n       <use xlink:href=\"#DejaVuSans-51\"/>\n       <use x=\"63.623047\" xlink:href=\"#DejaVuSans-48\"/>\n      </g>\n     </g>\n    </g>\n    <g id=\"xtick_15\">\n     <g id=\"line2d_20\">\n      <g>\n       <use style=\"stroke:#000000;stroke-width:0.8;\" x=\"388.110568\" xlink:href=\"#m787ad6519c\" y=\"254.770521\"/>\n      </g>\n     </g>\n     <g id=\"text_20\">\n      <!-- 40 -->\n      <g transform=\"translate(381.748068 269.368958)scale(0.1 -0.1)\">\n       <use xlink:href=\"#DejaVuSans-52\"/>\n       <use x=\"63.623047\" xlink:href=\"#DejaVuSans-48\"/>\n      </g>\n     </g>\n    </g>\n   </g>\n   <g id=\"matplotlib.axis_6\">\n    <g id=\"ytick_6\">\n     <g id=\"line2d_21\">\n      <g>\n       <use style=\"stroke:#000000;stroke-width:0.8;\" x=\"39.65\" xlink:href=\"#mb862f3f0fc\" y=\"254.770521\"/>\n      </g>\n     </g>\n     <g id=\"text_21\">\n      <!-- 0 -->\n      <g transform=\"translate(26.2875 258.56974)scale(0.1 -0.1)\">\n       <use xlink:href=\"#DejaVuSans-48\"/>\n      </g>\n     </g>\n    </g>\n    <g id=\"ytick_7\">\n     <g id=\"line2d_22\">\n      <g>\n       <use style=\"stroke:#000000;stroke-width:0.8;\" x=\"39.65\" xlink:href=\"#mb862f3f0fc\" y=\"230.299621\"/>\n      </g>\n     </g>\n     <g id=\"text_22\">\n      <!-- 100 -->\n      <g transform=\"translate(13.5625 234.09884)scale(0.1 -0.1)\">\n       <use xlink:href=\"#DejaVuSans-49\"/>\n       <use x=\"63.623047\" xlink:href=\"#DejaVuSans-48\"/>\n       <use x=\"127.246094\" xlink:href=\"#DejaVuSans-48\"/>\n      </g>\n     </g>\n    </g>\n    <g id=\"ytick_8\">\n     <g id=\"line2d_23\">\n      <g>\n       <use style=\"stroke:#000000;stroke-width:0.8;\" x=\"39.65\" xlink:href=\"#mb862f3f0fc\" y=\"205.828722\"/>\n      </g>\n     </g>\n     <g id=\"text_23\">\n      <!-- 200 -->\n      <g transform=\"translate(13.5625 209.627941)scale(0.1 -0.1)\">\n       <use xlink:href=\"#DejaVuSans-50\"/>\n       <use x=\"63.623047\" xlink:href=\"#DejaVuSans-48\"/>\n       <use x=\"127.246094\" xlink:href=\"#DejaVuSans-48\"/>\n      </g>\n     </g>\n    </g>\n   </g>\n   <g id=\"patch_142\">\n    <path d=\"M 39.65 254.770521 \nL 39.65 193.103854 \n\" style=\"fill:none;stroke:#000000;stroke-linecap:square;stroke-linejoin:miter;stroke-width:0.8;\"/>\n   </g>\n   <g id=\"patch_143\">\n    <path d=\"M 420.8375 254.770521 \nL 420.8375 193.103854 \n\" style=\"fill:none;stroke:#000000;stroke-linecap:square;stroke-linejoin:miter;stroke-width:0.8;\"/>\n   </g>\n   <g id=\"patch_144\">\n    <path d=\"M 39.65 254.770521 \nL 420.8375 254.770521 \n\" style=\"fill:none;stroke:#000000;stroke-linecap:square;stroke-linejoin:miter;stroke-width:0.8;\"/>\n   </g>\n   <g id=\"patch_145\">\n    <path d=\"M 39.65 193.103854 \nL 420.8375 193.103854 \n\" style=\"fill:none;stroke:#000000;stroke-linecap:square;stroke-linejoin:miter;stroke-width:0.8;\"/>\n   </g>\n  </g>\n </g>\n <defs>\n  <clipPath id=\"p8c7b7b497d\">\n   <rect height=\"61.666667\" width=\"381.1875\" x=\"39.65\" y=\"7.770521\"/>\n  </clipPath>\n  <clipPath id=\"p93e599ffd8\">\n   <rect height=\"61.666667\" width=\"381.1875\" x=\"39.65\" y=\"100.437188\"/>\n  </clipPath>\n  <clipPath id=\"pc164eb80bb\">\n   <rect height=\"61.666667\" width=\"381.1875\" x=\"39.65\" y=\"193.103854\"/>\n  </clipPath>\n </defs>\n</svg>\n",
      "text/plain": "<Figure size 432x288 with 3 Axes>"
     },
     "metadata": {
      "needs_background": "light"
     },
     "output_type": "display_data"
    }
   ],
   "source": [
    "# Create graph showing occurance of each label\n",
    "hist_train, bins = np.histogram(y_train, bins = n_classes)\n",
    "hist_test, bins = np.histogram(y_test, bins = n_classes)\n",
    "hist_valid, bins = np.histogram(y_valid, bins = n_classes)\n",
    "\n",
    "fig, axs = plt.subplots(3, 1)\n",
    "fig.tight_layout(pad = 1)\n",
    "width = 0.7 * (bins[1] - bins[0])\n",
    "center = (bins[:-1] + bins[1:]) / 2\n",
    "axs[0].bar(center, hist_train, align='center', width=width)                           \n",
    "axs[1].bar(center, hist_test, align='center', width=width)\n",
    "axs[2].bar(center, hist_valid, align='center', width=width)\n",
    "plt.show()"
   ]
  },
  {
   "cell_type": "markdown",
   "execution_count": null,
   "metadata": {},
   "outputs": [],
   "source": [
    "On image above we can see histogram of each part of the data set (Train, Test and Validation subsets respectively). From given histograms we can conclude that dataset is not balanced, since there is no equal number of appearances for each label. This could prove to be one factor which reduces prediction accuracy for  traffic signs that appear less frequently."
   ]
  },
  {
   "cell_type": "markdown",
   "execution_count": null,
   "metadata": {},
   "outputs": [],
   "source": [
    "----\n",
    "\n",
    "## Step 2: Design and Test a Model Architecture\n",
    "\n",
    "Design and implement a deep learning model that learns to recognize traffic signs. Train and test your model on the [German Traffic Sign Dataset](http://benchmark.ini.rub.de/?section=gtsrb&subsection=dataset).\n",
    "\n",
    "The LeNet-5 implementation shown in the [classroom](https://classroom.udacity.com/nanodegrees/nd013/parts/fbf77062-5703-404e-b60c-95b78b2f3f9e/modules/6df7ae49-c61c-4bb2-a23e-6527e69209ec/lessons/601ae704-1035-4287-8b11-e2c2716217ad/concepts/d4aca031-508f-4e0b-b493-e7b706120f81) at the end of the CNN lesson is a solid starting point. You'll have to change the number of classes and possibly the preprocessing, but aside from that it's plug and play! \n",
    "\n",
    "With the LeNet-5 solution from the lecture, you should expect a validation set accuracy of about 0.89. To meet specifications, the validation set accuracy will need to be at least 0.93. It is possible to get an even higher accuracy, but 0.93 is the minimum for a successful project submission. \n",
    "\n",
    "There are various aspects to consider when thinking about this problem:\n",
    "\n",
    "- Neural network architecture (is the network over or underfitting?)\n",
    "- Play around preprocessing techniques (normalization, rgb to grayscale, etc)\n",
    "- Number of examples per label (some have more than others).\n",
    "- Generate fake data.\n",
    "\n",
    "Here is an example of a [published baseline model on this problem](http://yann.lecun.com/exdb/publis/pdf/sermanet-ijcnn-11.pdf). It's not required to be familiar with the approach used in the paper but, it's good practice to try to read papers like these."
   ]
  },
  {
   "cell_type": "markdown",
   "execution_count": null,
   "metadata": {},
   "outputs": [],
   "source": [
    "### Pre-process the Data Set (normalization, grayscale, etc.)"
   ]
  },
  {
   "cell_type": "markdown",
   "execution_count": null,
   "metadata": {},
   "outputs": [],
   "source": [
    "Minimally, the image data should be normalized so that the data has mean zero and equal variance. For image data, `(pixel - 128)/ 128` is a quick way to approximately normalize the data and can be used in this project. \n",
    "\n",
    "Other pre-processing steps are optional. You can try different techniques to see if it improves performance. \n",
    "\n",
    "Use the code cell (or multiple code cells, if necessary) to implement the first step of your project."
   ]
  },
  {
   "cell_type": "code",
   "execution_count": 6,
   "metadata": {},
   "outputs": [],
   "source": [
    "### Preprocess the data here. It is required to normalize the data. Other preprocessing steps could include \n",
    "### converting to grayscale, etc.\n",
    "### Feel free to use as many code cells as needed.\n",
    "\n",
    "# We want to normalize input so we have 0 mean\n",
    "def normalize(input):\n",
    "    normalized = np.array((input - 128.0) / 128.0)\n",
    "    return normalized\n"
   ]
  },
  {
   "cell_type": "code",
   "execution_count": 7,
   "metadata": {},
   "outputs": [
    {
     "name": "stdout",
     "output_type": "stream",
     "text": "Mean of image before normalization:  131.91959635416666\nVariance of image before normalization:  4741.922897232903\nMean of image after normalization:  0.030621846516927082\nVariance of image after normalization:  0.2894240049580629\n"
    }
   ],
   "source": [
    "from sklearn.utils import shuffle\n",
    "\n",
    "# Intially shuffle training set\n",
    "X_train, y_train = shuffle(X_train, y_train)\n",
    "\n",
    "print(\"Mean of image before normalization: \", np.mean(X_train[0]))\n",
    "print(\"Variance of image before normalization: \", np.var(X_train[0]))\n",
    "\n",
    "# Normalize data set\n",
    "X_train_normalized = normalize(X_train)\n",
    "X_test_normalized = normalize(X_test)\n",
    "X_valid_normalized = normalize(X_valid)\n",
    "\n",
    "print(\"Mean of image after normalization: \", np.mean(X_train_normalized[0]))\n",
    "print(\"Variance of image after normalization: \", np.var(X_train_normalized[0]))\n"
   ]
  },
  {
   "cell_type": "markdown",
   "execution_count": null,
   "metadata": {},
   "outputs": [],
   "source": [
    "### Model Architecture"
   ]
  },
  {
   "cell_type": "code",
   "execution_count": 8,
   "metadata": {},
   "outputs": [
    {
     "name": "stderr",
     "output_type": "stream",
     "text": "/home/godra/anaconda3/envs/tensor_flow_env/lib/python3.6/site-packages/tensorflow/python/framework/dtypes.py:519: FutureWarning: Passing (type, 1) or '1type' as a synonym of type is deprecated; in a future version of numpy, it will be understood as (type, (1,)) / '(1,)type'.\n  _np_qint8 = np.dtype([(\"qint8\", np.int8, 1)])\n/home/godra/anaconda3/envs/tensor_flow_env/lib/python3.6/site-packages/tensorflow/python/framework/dtypes.py:520: FutureWarning: Passing (type, 1) or '1type' as a synonym of type is deprecated; in a future version of numpy, it will be understood as (type, (1,)) / '(1,)type'.\n  _np_quint8 = np.dtype([(\"quint8\", np.uint8, 1)])\n/home/godra/anaconda3/envs/tensor_flow_env/lib/python3.6/site-packages/tensorflow/python/framework/dtypes.py:521: FutureWarning: Passing (type, 1) or '1type' as a synonym of type is deprecated; in a future version of numpy, it will be understood as (type, (1,)) / '(1,)type'.\n  _np_qint16 = np.dtype([(\"qint16\", np.int16, 1)])\n/home/godra/anaconda3/envs/tensor_flow_env/lib/python3.6/site-packages/tensorflow/python/framework/dtypes.py:522: FutureWarning: Passing (type, 1) or '1type' as a synonym of type is deprecated; in a future version of numpy, it will be understood as (type, (1,)) / '(1,)type'.\n  _np_quint16 = np.dtype([(\"quint16\", np.uint16, 1)])\n/home/godra/anaconda3/envs/tensor_flow_env/lib/python3.6/site-packages/tensorflow/python/framework/dtypes.py:523: FutureWarning: Passing (type, 1) or '1type' as a synonym of type is deprecated; in a future version of numpy, it will be understood as (type, (1,)) / '(1,)type'.\n  _np_qint32 = np.dtype([(\"qint32\", np.int32, 1)])\n/home/godra/anaconda3/envs/tensor_flow_env/lib/python3.6/site-packages/tensorflow/python/framework/dtypes.py:528: FutureWarning: Passing (type, 1) or '1type' as a synonym of type is deprecated; in a future version of numpy, it will be understood as (type, (1,)) / '(1,)type'.\n  np_resource = np.dtype([(\"resource\", np.ubyte, 1)])\n"
    }
   ],
   "source": [
    "### Define your architecture here.\n",
    "### Feel free to use as many code cells as needed.\n",
    "\n",
    "# Tensorflow imports\n",
    "import tensorflow as tf\n",
    "from tensorflow.contrib.layers import flatten\n",
    "\n",
    "EPOCHS = 20\n",
    "BATCH_SIZE = 128"
   ]
  },
  {
   "cell_type": "code",
   "execution_count": 9,
   "metadata": {},
   "outputs": [],
   "source": [
    "# Create weights and biases for NN\n",
    "# Parameters for initial random values for weights\n",
    "mu = 0 # mean\n",
    "sigma = 0.1 # deviation\n",
    "\n",
    "weights = {\n",
    "    'conv_w1' : tf.Variable(tf.truncated_normal(shape = (5, 5, 3, 6), mean = mu, stddev = sigma)),\n",
    "    'conv_w2' : tf.Variable(tf.truncated_normal(shape = (5, 5, 6, 16), mean = mu, stddev = sigma)),\n",
    "    'conv_w3' : tf.Variable(tf.truncated_normal(shape = (3, 3, 16, 32), mean = mu, stddev = sigma)),\n",
    "    'fc_w1' : tf.Variable(tf.truncated_normal(shape = (688, 120), mean = mu, stddev = sigma)),\n",
    "    'fc_w2' : tf.Variable(tf.truncated_normal(shape = (120, 84), mean = mu, stddev = sigma)),\n",
    "    'fc_w3' : tf.Variable(tf.truncated_normal(shape = (84, 43), mean = mu, stddev = sigma))\n",
    "}\n",
    "biases = {\n",
    "    'conv_b1' : tf.Variable(tf.zeros(6)),\n",
    "    'conv_b2' : tf.Variable(tf.zeros(16)),\n",
    "    'conv_b3' : tf.Variable(tf.zeros(32)),\n",
    "    'fc_b1' : tf.Variable(tf.zeros(120)),\n",
    "    'fc_b2' : tf.Variable(tf.zeros(84)),\n",
    "    'fc_b3' : tf.Variable(tf.zeros(43))\n",
    "}"
   ]
  },
  {
   "cell_type": "code",
   "execution_count": 10,
   "metadata": {},
   "outputs": [],
   "source": [
    "# Function for nn inference\n",
    "def le_tsc_net(input, weights, biases, dropout):\n",
    "    # Layer 1: Convolutional. Input = 32x32x3. Output = 28x28x6. \n",
    "    conv_1 = tf.nn.bias_add(tf.nn.conv2d(x, weights['conv_w1'], strides=[1, 1, 1, 1], padding='VALID'), biases['conv_b1'])\n",
    "\n",
    "    # Activation.\n",
    "    conv_1_activation = tf.nn.relu(conv_1)\n",
    "\n",
    "    # Pooling. Input = 28x28x6. Output = 14x14x6.\n",
    "    max_pooling1 = tf.nn.max_pool(conv_1_activation, [1, 2, 2, 1], [1, 2, 2, 1], 'VALID')\n",
    "\n",
    "    # Layer 2: Convolutional. Output = 10x10x16.\n",
    "    conv_2 = tf.nn.bias_add(tf.nn.conv2d(max_pooling1, weights['conv_w2'], strides=[1, 1, 1, 1], padding='VALID'), biases['conv_b2'])\n",
    "    \n",
    "    # Activation.\n",
    "    conv_2_activation = tf.nn.relu(conv_2)\n",
    "\n",
    "    # Pooling. Input = 10x10x16. Output = 5x5x16.\n",
    "    max_pooling2 = tf.nn.max_pool(conv_2_activation, [1, 2, 2, 1], [1, 2, 2, 1], 'VALID')\n",
    "\n",
    "    # Layer 3: Convolution. Input 5x5x16. Output = 3x3x32\n",
    "    conv_3 = tf.nn.bias_add(tf.nn.conv2d(max_pooling2, weights['conv_w3'], strides=[1, 1, 1, 1], padding = 'VALID'), biases['conv_b3'])\n",
    "\n",
    "    # Activation.\n",
    "    conv_3_activation = tf.nn.relu(conv_3)\n",
    "\n",
    "    # Flatten. Input = 5x5x16. Output = 400.\n",
    "    flattened_conv2 = tf.contrib.layers.flatten(max_pooling2)\n",
    "\n",
    "    # Flatten. Input = 3x3x32. Output = 288.\n",
    "    flattened_conv3 = tf.contrib.layers.flatten(conv_3_activation)\n",
    "\n",
    "    # Concatenated output. Output = 688\n",
    "    concated_convs = tf.concat([flattened_conv2, flattened_conv3], 1)\n",
    "    \n",
    "    # Layer 3: Fully Connected. Input = 688. Output = 120.\n",
    "    fc1 = tf.add(tf.matmul(concated_convs, weights['fc_w1']), biases['fc_b1'])\n",
    "    \n",
    "    # Activation.\n",
    "    fc1_activation = tf.nn.relu(fc1)\n",
    "    fc1_activation = tf.nn.dropout(fc1_activation, dropout)\n",
    "\n",
    "    # Layer 4: Fully Connected. Input = 120. Output = 84.\n",
    "    fc2 = tf.add(tf.matmul(fc1_activation, weights['fc_w2']), biases['fc_b2'])\n",
    "    \n",
    "    # Activation.\n",
    "    fc2_activation = tf.nn.relu(fc2)\n",
    "    fc2_activation = tf.nn.dropout(fc2_activation, dropout)\n",
    "\n",
    "    # Layer 5: Fully Connected. Input = 84. Output = 43.\n",
    "    logits = tf.add(tf.matmul(fc2_activation,  weights['fc_w3']), biases['fc_b3'])\n",
    "    \n",
    "    return logits\n",
    "\n"
   ]
  },
  {
   "cell_type": "code",
   "execution_count": 11,
   "metadata": {},
   "outputs": [],
   "source": [
    "total_classes = n_classes\n",
    "\n",
    "# Define inputs\n",
    "keep_prob = tf.placeholder(tf.float32)\n",
    "x = tf.placeholder(tf.float32, (None, 32, 32, 3))\n",
    "y = tf.placeholder(tf.int32, (None))\n",
    "one_hot_y = tf.one_hot(y, total_classes)"
   ]
  },
  {
   "cell_type": "markdown",
   "execution_count": null,
   "metadata": {},
   "outputs": [],
   "source": [
    "### Train, Validate and Test the Model"
   ]
  },
  {
   "cell_type": "markdown",
   "execution_count": null,
   "metadata": {},
   "outputs": [],
   "source": [
    "A validation set can be used to assess how well the model is performing. A low accuracy on the training and validation\n",
    "sets imply underfitting. A high accuracy on the training set but low accuracy on the validation set implies overfitting."
   ]
  },
  {
   "cell_type": "code",
   "execution_count": 12,
   "metadata": {},
   "outputs": [
    {
     "name": "stdout",
     "output_type": "stream",
     "text": "WARNING:tensorflow:From <ipython-input-12-c598f29c85b6>:14: softmax_cross_entropy_with_logits (from tensorflow.python.ops.nn_ops) is deprecated and will be removed in a future version.\nInstructions for updating:\n\nFuture major versions of TensorFlow will allow gradients to flow\ninto the labels input on backprop by default.\n\nSee @{tf.nn.softmax_cross_entropy_with_logits_v2}.\n\n"
    }
   ],
   "source": [
    "### Train your model here.\n",
    "### Calculate and report the accuracy on the training and validation set.\n",
    "### Once a final model architecture is selected, \n",
    "### the accuracy on the test set should be calculated and reported as well.\n",
    "### Feel free to use as many code cells as needed.\n",
    "\n",
    "# Training operations\n",
    "rate = 0.001\n",
    "\n",
    "# Output of nn\n",
    "logits = le_tsc_net(x, weights, biases, keep_prob)\n",
    "\n",
    "# Cross entropy to determin error\n",
    "cross_entropy_operation = tf.nn.softmax_cross_entropy_with_logits(labels = one_hot_y, logits = logits)\n",
    "\n",
    "# Loss - mean of cross entropy\n",
    "loss_operation = tf.reduce_mean(cross_entropy_operation)\n",
    "\n",
    "# Optimizer\n",
    "optimizer = tf.train.AdamOptimizer(learning_rate = rate)\n",
    "training_operation = optimizer.minimize(loss_operation)"
   ]
  },
  {
   "cell_type": "markdown",
   "execution_count": null,
   "metadata": {},
   "outputs": [],
   "source": [
    "## Model Evaluation\n",
    "Evaluate model loss and accuracy"
   ]
  },
  {
   "cell_type": "code",
   "execution_count": 13,
   "metadata": {},
   "outputs": [
    {
     "name": "stdout",
     "output_type": "stream",
     "text": "WARNING:tensorflow:From <ipython-input-13-efed3d4f25d0>:2: arg_max (from tensorflow.python.ops.gen_math_ops) is deprecated and will be removed in a future version.\nInstructions for updating:\nUse `argmax` instead\n"
    }
   ],
   "source": [
    "# Check for equality between nn prediciton and given labels\n",
    "correct_prediciton = tf.equal(tf.arg_max(one_hot_y, 1), tf.arg_max(logits, 1))\n",
    "\n",
    "# Calculate total accuracy as mean of vector with 0 (false predictions one_hot_y != logits) and 1 (true predictions)\n",
    "accuracy_operation = tf.reduce_mean(tf.cast(correct_prediciton, tf.float32))\n",
    "\n",
    "# Saver - utilized for saving weights of current session\n",
    "saver = tf.train.Saver()"
   ]
  },
  {
   "cell_type": "code",
   "execution_count": 14,
   "metadata": {},
   "outputs": [],
   "source": [
    "# Utility function for printing stats\n",
    "# Check total accuracy for current weights on test\n",
    "def evaluate(X_data, y_data):\n",
    "    num_examples = len(X_data)\n",
    "    total_accuracy = 0\n",
    "    sess = tf.get_default_session()\n",
    "    for offset in range(0, num_examples, BATCH_SIZE):\n",
    "        batch_x, batch_y = X_data[offset:offset+BATCH_SIZE], y_data[offset:offset+BATCH_SIZE]\n",
    "        accuracy = sess.run(accuracy_operation, feed_dict={x: batch_x, y: batch_y, keep_prob: 1.0})\n",
    "        total_accuracy += (accuracy * len(batch_x))\n",
    "    return total_accuracy / num_examples"
   ]
  },
  {
   "cell_type": "markdown",
   "execution_count": null,
   "metadata": {},
   "outputs": [],
   "source": [
    "### Model training\n",
    "- Run the model on training data\n",
    "- Before each epoch shuffle set\n",
    "- After each epoch evaluate current state of the model (Accuracy) on validation set\n",
    "- Save the model after training"
   ]
  },
  {
   "cell_type": "code",
   "execution_count": 20,
   "metadata": {},
   "outputs": [
    {
     "name": "stdout",
     "output_type": "stream",
     "text": "Training...\n\nEPOCH 1 ...\nTraining Accuracy = 0.704\nValidation Accuracy = 0.648\n\nEPOCH 2 ...\nTraining Accuracy = 0.905\nValidation Accuracy = 0.849\n\nEPOCH 3 ...\nTraining Accuracy = 0.933\nValidation Accuracy = 0.885\n\nEPOCH 4 ...\nTraining Accuracy = 0.953\nValidation Accuracy = 0.905\n\nEPOCH 5 ...\nTraining Accuracy = 0.970\nValidation Accuracy = 0.922\n\nEPOCH 6 ...\nTraining Accuracy = 0.974\nValidation Accuracy = 0.932\n\nEPOCH 7 ...\nTraining Accuracy = 0.977\nValidation Accuracy = 0.945\n\nEPOCH 8 ...\nTraining Accuracy = 0.982\nValidation Accuracy = 0.944\n\nEPOCH 9 ...\nTraining Accuracy = 0.985\nValidation Accuracy = 0.944\n\nEPOCH 10 ...\nTraining Accuracy = 0.987\nValidation Accuracy = 0.954\n\nEPOCH 11 ...\nTraining Accuracy = 0.989\nValidation Accuracy = 0.956\n\nEPOCH 12 ...\nTraining Accuracy = 0.990\nValidation Accuracy = 0.954\n\nEPOCH 13 ...\nTraining Accuracy = 0.992\nValidation Accuracy = 0.962\n\nEPOCH 14 ...\nTraining Accuracy = 0.993\nValidation Accuracy = 0.946\n\nEPOCH 15 ...\nTraining Accuracy = 0.994\nValidation Accuracy = 0.956\n\nEPOCH 16 ...\nTraining Accuracy = 0.993\nValidation Accuracy = 0.956\n\nEPOCH 17 ...\nTraining Accuracy = 0.994\nValidation Accuracy = 0.965\n\nEPOCH 18 ...\nTraining Accuracy = 0.994\nValidation Accuracy = 0.955\n\nEPOCH 19 ...\nTraining Accuracy = 0.995\nValidation Accuracy = 0.961\n\nEPOCH 20 ...\nTraining Accuracy = 0.996\nValidation Accuracy = 0.960\n\nModel saved\n"
    }
   ],
   "source": [
    "# Training the model\n",
    "\n",
    "with tf.Session() as sess:\n",
    "    sess.run(tf.global_variables_initializer())\n",
    "    num_examples = len(X_train_normalized)\n",
    "    \n",
    "    print(\"Training...\")\n",
    "    print()\n",
    "    for i in range(EPOCHS):\n",
    "        # For each epoch shuffle train dataset\n",
    "        X_train_normalized, y_train = shuffle(X_train_normalized, y_train)\n",
    "        for offset in range(0, num_examples, BATCH_SIZE):\n",
    "            end = offset + BATCH_SIZE\n",
    "            batch_x, batch_y = X_train_normalized[offset:end], y_train[offset:end]\n",
    "            # Feed normalized train dataset\n",
    "            sess.run(training_operation, feed_dict={x: batch_x, y: batch_y, keep_prob: 0.50})\n",
    "\n",
    "        # For each epoch evaluate training and validation accuracy    \n",
    "        training_accuracy = evaluate(X_train_normalized, y_train)\n",
    "        validation_accuracy = evaluate(X_valid_normalized, y_valid)\n",
    "\n",
    "        print(\"EPOCH {} ...\".format(i+1))\n",
    "        print(\"Training Accuracy = {:.3f}\".format(training_accuracy))\n",
    "        print(\"Validation Accuracy = {:.3f}\".format(validation_accuracy))\n",
    "        print()\n",
    "        \n",
    "    saver.save(sess, './lenet')\n",
    "    print(\"Model saved\")"
   ]
  },
  {
   "cell_type": "markdown",
   "metadata": {},
   "source": [
    "**Check point is here, from here we have model saved!**"
   ]
  },
  {
   "cell_type": "code",
   "execution_count": 21,
   "metadata": {},
   "outputs": [
    {
     "name": "stdout",
     "output_type": "stream",
     "text": "INFO:tensorflow:Restoring parameters from ./lenet\nTest Accuracy = 0.948\n"
    }
   ],
   "source": [
    "# Check the test accuracy\n",
    "\n",
    "with tf.Session() as sess:\n",
    "    saver.restore(sess, './lenet')\n",
    "    test_accuracy = evaluate(X_test_normalized, y_test)\n",
    "    print(\"Test Accuracy = {:.3f}\".format(test_accuracy))"
   ]
  },
  {
   "cell_type": "markdown",
   "execution_count": null,
   "metadata": {},
   "outputs": [],
   "source": [
    "---\n",
    "\n",
    "## Step 3: Test a Model on New Images\n",
    "\n",
    "To give yourself more insight into how your model is working, download at least five pictures of German traffic signs from the web and use your model to predict the traffic sign type.\n",
    "\n",
    "You may find `signnames.csv` useful as it contains mappings from the class id (integer) to the actual sign name."
   ]
  },
  {
   "cell_type": "markdown",
   "execution_count": null,
   "metadata": {},
   "outputs": [],
   "source": [
    "### Load and Output the Images"
   ]
  },
  {
   "cell_type": "code",
   "execution_count": 22,
   "metadata": {},
   "outputs": [
    {
     "name": "stdout",
     "output_type": "stream",
     "text": "Additional data mean:  -0.13495381673177084\nAdditional data var:  0.3110404415418291\nLabels:  [25, 13, 18, 17, 1]\n"
    },
    {
     "data": {
      "image/png": "[encoded data removed]",
      "image/svg+xml": "<?xml version=\"1.0\" encoding=\"utf-8\" standalone=\"no\"?>\n<!DOCTYPE svg PUBLIC \"-//W3C//DTD SVG 1.1//EN\"\n  \"http://www.w3.org/Graphics/SVG/1.1/DTD/svg11.dtd\">\n<!-- Created with matplotlib (https://matplotlib.org/) -->\n<svg height=\"66.003448pt\" version=\"1.1\" viewBox=\"0 0 296.9 66.003448\" width=\"296.9pt\" xmlns=\"http://www.w3.org/2000/svg\" xmlns:xlink=\"http://www.w3.org/1999/xlink\">\n <defs>\n  <style type=\"text/css\">\n*{stroke-linecap:butt;stroke-linejoin:round;}\n  </style>\n </defs>\n <g id=\"figure_1\">\n  <g id=\"patch_1\">\n   <path d=\"M 0 66.003448 \nL 296.9 66.003448 \nL 296.9 0 \nL 0 0 \nz\n\" style=\"fill:none;\"/>\n  </g>\n  <g id=\"axes_1\">\n   <g id=\"patch_2\">\n    <path d=\"M 10.7 55.303448 \nL 58.803448 55.303448 \nL 58.803448 7.2 \nL 10.7 7.2 \nz\n\" style=\"fill:#ffffff;\"/>\n   </g>\n   <g clip-path=\"url(#pce849a2f53)\">\n    <image height=\"49\" id=\"imagef62e48b7a2\" transform=\"scale(1 -1)translate(0 -49)\" width=\"49\" x=\"10.7\" xlink:href=\"data:image/png;base64,\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\" y=\"-6.303448\"/>\n   </g>\n   <g id=\"matplotlib.axis_1\">\n    <g id=\"xtick_1\">\n     <g id=\"line2d_1\">\n      <defs>\n       <path d=\"M 0 0 \nL 0 3.5 \n\" id=\"ma57da59d8d\" style=\"stroke:#000000;stroke-width:0.8;\"/>\n      </defs>\n      <g>\n       <use style=\"stroke:#000000;stroke-width:0.8;\" x=\"11.451616\" xlink:href=\"#ma57da59d8d\" y=\"55.303448\"/>\n      </g>\n     </g>\n    </g>\n    <g id=\"xtick_2\">\n     <g id=\"line2d_2\">\n      <g>\n       <use style=\"stroke:#000000;stroke-width:0.8;\" x=\"49.032435\" xlink:href=\"#ma57da59d8d\" y=\"55.303448\"/>\n      </g>\n     </g>\n    </g>\n   </g>\n   <g id=\"matplotlib.axis_2\">\n    <g id=\"ytick_1\">\n     <g id=\"line2d_3\">\n      <defs>\n       <path d=\"M 0 0 \nL -3.5 0 \n\" id=\"mf56483db7b\" style=\"stroke:#000000;stroke-width:0.8;\"/>\n      </defs>\n      <g>\n       <use style=\"stroke:#000000;stroke-width:0.8;\" x=\"10.7\" xlink:href=\"#mf56483db7b\" y=\"7.951616\"/>\n      </g>\n     </g>\n    </g>\n    <g id=\"ytick_2\">\n     <g id=\"line2d_4\">\n      <g>\n       <use style=\"stroke:#000000;stroke-width:0.8;\" x=\"10.7\" xlink:href=\"#mf56483db7b\" y=\"38.016272\"/>\n      </g>\n     </g>\n    </g>\n   </g>\n   <g id=\"patch_3\">\n    <path d=\"M 10.7 55.303448 \nL 10.7 7.2 \n\" style=\"fill:none;stroke:#000000;stroke-linecap:square;stroke-linejoin:miter;stroke-width:0.8;\"/>\n   </g>\n   <g id=\"patch_4\">\n    <path d=\"M 58.803448 55.303448 \nL 58.803448 7.2 \n\" style=\"fill:none;stroke:#000000;stroke-linecap:square;stroke-linejoin:miter;stroke-width:0.8;\"/>\n   </g>\n   <g id=\"patch_5\">\n    <path d=\"M 10.7 55.303448 \nL 58.803448 55.303448 \n\" style=\"fill:none;stroke:#000000;stroke-linecap:square;stroke-linejoin:miter;stroke-width:0.8;\"/>\n   </g>\n   <g id=\"patch_6\">\n    <path d=\"M 10.7 7.2 \nL 58.803448 7.2 \n\" style=\"fill:none;stroke:#000000;stroke-linecap:square;stroke-linejoin:miter;stroke-width:0.8;\"/>\n   </g>\n  </g>\n  <g id=\"axes_2\">\n   <g id=\"patch_7\">\n    <path d=\"M 68.424138 55.303448 \nL 116.527586 55.303448 \nL 116.527586 7.2 \nL 68.424138 7.2 \nz\n\" style=\"fill:#ffffff;\"/>\n   </g>\n   <g clip-path=\"url(#pce919f97b5)\">\n    <image height=\"49\" id=\"image6b6ad3aba3\" transform=\"scale(1 -1)translate(0 -49)\" width=\"49\" x=\"68.424138\" xlink:href=\"data:image/png;base64,\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\" y=\"-6.303448\"/>\n   </g>\n   <g id=\"matplotlib.axis_3\">\n    <g id=\"xtick_3\">\n     <g id=\"line2d_5\">\n      <g>\n       <use style=\"stroke:#000000;stroke-width:0.8;\" x=\"69.175754\" xlink:href=\"#ma57da59d8d\" y=\"55.303448\"/>\n      </g>\n     </g>\n    </g>\n    <g id=\"xtick_4\">\n     <g id=\"line2d_6\">\n      <g>\n       <use style=\"stroke:#000000;stroke-width:0.8;\" x=\"106.756573\" xlink:href=\"#ma57da59d8d\" y=\"55.303448\"/>\n      </g>\n     </g>\n    </g>\n   </g>\n   <g id=\"matplotlib.axis_4\">\n    <g id=\"ytick_3\">\n     <g id=\"line2d_7\">\n      <g>\n       <use style=\"stroke:#000000;stroke-width:0.8;\" x=\"68.424138\" xlink:href=\"#mf56483db7b\" y=\"7.951616\"/>\n      </g>\n     </g>\n    </g>\n    <g id=\"ytick_4\">\n     <g id=\"line2d_8\">\n      <g>\n       <use style=\"stroke:#000000;stroke-width:0.8;\" x=\"68.424138\" xlink:href=\"#mf56483db7b\" y=\"38.016272\"/>\n      </g>\n     </g>\n    </g>\n   </g>\n   <g id=\"patch_8\">\n    <path d=\"M 68.424138 55.303448 \nL 68.424138 7.2 \n\" style=\"fill:none;stroke:#000000;stroke-linecap:square;stroke-linejoin:miter;stroke-width:0.8;\"/>\n   </g>\n   <g id=\"patch_9\">\n    <path d=\"M 116.527586 55.303448 \nL 116.527586 7.2 \n\" style=\"fill:none;stroke:#000000;stroke-linecap:square;stroke-linejoin:miter;stroke-width:0.8;\"/>\n   </g>\n   <g id=\"patch_10\">\n    <path d=\"M 68.424138 55.303448 \nL 116.527586 55.303448 \n\" style=\"fill:none;stroke:#000000;stroke-linecap:square;stroke-linejoin:miter;stroke-width:0.8;\"/>\n   </g>\n   <g id=\"patch_11\">\n    <path d=\"M 68.424138 7.2 \nL 116.527586 7.2 \n\" style=\"fill:none;stroke:#000000;stroke-linecap:square;stroke-linejoin:miter;stroke-width:0.8;\"/>\n   </g>\n  </g>\n  <g id=\"axes_3\">\n   <g id=\"patch_12\">\n    <path d=\"M 126.148276 55.303448 \nL 174.251724 55.303448 \nL 174.251724 7.2 \nL 126.148276 7.2 \nz\n\" style=\"fill:#ffffff;\"/>\n   </g>\n   <g clip-path=\"url(#p74acdc9b96)\">\n    <image height=\"49\" id=\"imaged80d3b9014\" transform=\"scale(1 -1)translate(0 -49)\" width=\"49\" x=\"126.148276\" xlink:href=\"data:image/png;base64,\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\" y=\"-6.303448\"/>\n   </g>\n   <g id=\"matplotlib.axis_5\">\n    <g id=\"xtick_5\">\n     <g id=\"line2d_9\">\n      <g>\n       <use style=\"stroke:#000000;stroke-width:0.8;\" x=\"126.899892\" xlink:href=\"#ma57da59d8d\" y=\"55.303448\"/>\n      </g>\n     </g>\n    </g>\n    <g id=\"xtick_6\">\n     <g id=\"line2d_10\">\n      <g>\n       <use style=\"stroke:#000000;stroke-width:0.8;\" x=\"164.480711\" xlink:href=\"#ma57da59d8d\" y=\"55.303448\"/>\n      </g>\n     </g>\n    </g>\n   </g>\n   <g id=\"matplotlib.axis_6\">\n    <g id=\"ytick_5\">\n     <g id=\"line2d_11\">\n      <g>\n       <use style=\"stroke:#000000;stroke-width:0.8;\" x=\"126.148276\" xlink:href=\"#mf56483db7b\" y=\"7.951616\"/>\n      </g>\n     </g>\n    </g>\n    <g id=\"ytick_6\">\n     <g id=\"line2d_12\">\n      <g>\n       <use style=\"stroke:#000000;stroke-width:0.8;\" x=\"126.148276\" xlink:href=\"#mf56483db7b\" y=\"38.016272\"/>\n      </g>\n     </g>\n    </g>\n   </g>\n   <g id=\"patch_13\">\n    <path d=\"M 126.148276 55.303448 \nL 126.148276 7.2 \n\" style=\"fill:none;stroke:#000000;stroke-linecap:square;stroke-linejoin:miter;stroke-width:0.8;\"/>\n   </g>\n   <g id=\"patch_14\">\n    <path d=\"M 174.251724 55.303448 \nL 174.251724 7.2 \n\" style=\"fill:none;stroke:#000000;stroke-linecap:square;stroke-linejoin:miter;stroke-width:0.8;\"/>\n   </g>\n   <g id=\"patch_15\">\n    <path d=\"M 126.148276 55.303448 \nL 174.251724 55.303448 \n\" style=\"fill:none;stroke:#000000;stroke-linecap:square;stroke-linejoin:miter;stroke-width:0.8;\"/>\n   </g>\n   <g id=\"patch_16\">\n    <path d=\"M 126.148276 7.2 \nL 174.251724 7.2 \n\" style=\"fill:none;stroke:#000000;stroke-linecap:square;stroke-linejoin:miter;stroke-width:0.8;\"/>\n   </g>\n  </g>\n  <g id=\"axes_4\">\n   <g id=\"patch_17\">\n    <path d=\"M 183.872414 55.303448 \nL 231.975862 55.303448 \nL 231.975862 7.2 \nL 183.872414 7.2 \nz\n\" style=\"fill:#ffffff;\"/>\n   </g>\n   <g clip-path=\"url(#pbb357b6f9e)\">\n    <image height=\"49\" id=\"image5574c250c1\" transform=\"scale(1 -1)translate(0 -49)\" width=\"49\" x=\"183.872414\" xlink:href=\"data:image/png;base64,\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\" y=\"-6.303448\"/>\n   </g>\n   <g id=\"matplotlib.axis_7\">\n    <g id=\"xtick_7\">\n     <g id=\"line2d_13\">\n      <g>\n       <use style=\"stroke:#000000;stroke-width:0.8;\" x=\"184.62403\" xlink:href=\"#ma57da59d8d\" y=\"55.303448\"/>\n      </g>\n     </g>\n    </g>\n    <g id=\"xtick_8\">\n     <g id=\"line2d_14\">\n      <g>\n       <use style=\"stroke:#000000;stroke-width:0.8;\" x=\"222.204849\" xlink:href=\"#ma57da59d8d\" y=\"55.303448\"/>\n      </g>\n     </g>\n    </g>\n   </g>\n   <g id=\"matplotlib.axis_8\">\n    <g id=\"ytick_7\">\n     <g id=\"line2d_15\">\n      <g>\n       <use style=\"stroke:#000000;stroke-width:0.8;\" x=\"183.872414\" xlink:href=\"#mf56483db7b\" y=\"7.951616\"/>\n      </g>\n     </g>\n    </g>\n    <g id=\"ytick_8\">\n     <g id=\"line2d_16\">\n      <g>\n       <use style=\"stroke:#000000;stroke-width:0.8;\" x=\"183.872414\" xlink:href=\"#mf56483db7b\" y=\"38.016272\"/>\n      </g>\n     </g>\n    </g>\n   </g>\n   <g id=\"patch_18\">\n    <path d=\"M 183.872414 55.303448 \nL 183.872414 7.2 \n\" style=\"fill:none;stroke:#000000;stroke-linecap:square;stroke-linejoin:miter;stroke-width:0.8;\"/>\n   </g>\n   <g id=\"patch_19\">\n    <path d=\"M 231.975862 55.303448 \nL 231.975862 7.2 \n\" style=\"fill:none;stroke:#000000;stroke-linecap:square;stroke-linejoin:miter;stroke-width:0.8;\"/>\n   </g>\n   <g id=\"patch_20\">\n    <path d=\"M 183.872414 55.303448 \nL 231.975862 55.303448 \n\" style=\"fill:none;stroke:#000000;stroke-linecap:square;stroke-linejoin:miter;stroke-width:0.8;\"/>\n   </g>\n   <g id=\"patch_21\">\n    <path d=\"M 183.872414 7.2 \nL 231.975862 7.2 \n\" style=\"fill:none;stroke:#000000;stroke-linecap:square;stroke-linejoin:miter;stroke-width:0.8;\"/>\n   </g>\n  </g>\n  <g id=\"axes_5\">\n   <g id=\"patch_22\">\n    <path d=\"M 241.596552 55.303448 \nL 289.7 55.303448 \nL 289.7 7.2 \nL 241.596552 7.2 \nz\n\" style=\"fill:#ffffff;\"/>\n   </g>\n   <g clip-path=\"url(#pcfad7d58cf)\">\n    <image height=\"49\" id=\"imagedd0bf78721\" transform=\"scale(1 -1)translate(0 -49)\" width=\"49\" x=\"241.596552\" xlink:href=\"data:image/png;base64,\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\" y=\"-6.303448\"/>\n   </g>\n   <g id=\"matplotlib.axis_9\">\n    <g id=\"xtick_9\">\n     <g id=\"line2d_17\">\n      <g>\n       <use style=\"stroke:#000000;stroke-width:0.8;\" x=\"242.348168\" xlink:href=\"#ma57da59d8d\" y=\"55.303448\"/>\n      </g>\n     </g>\n    </g>\n    <g id=\"xtick_10\">\n     <g id=\"line2d_18\">\n      <g>\n       <use style=\"stroke:#000000;stroke-width:0.8;\" x=\"279.928987\" xlink:href=\"#ma57da59d8d\" y=\"55.303448\"/>\n      </g>\n     </g>\n    </g>\n   </g>\n   <g id=\"matplotlib.axis_10\">\n    <g id=\"ytick_9\">\n     <g id=\"line2d_19\">\n      <g>\n       <use style=\"stroke:#000000;stroke-width:0.8;\" x=\"241.596552\" xlink:href=\"#mf56483db7b\" y=\"7.951616\"/>\n      </g>\n     </g>\n    </g>\n    <g id=\"ytick_10\">\n     <g id=\"line2d_20\">\n      <g>\n       <use style=\"stroke:#000000;stroke-width:0.8;\" x=\"241.596552\" xlink:href=\"#mf56483db7b\" y=\"38.016272\"/>\n      </g>\n     </g>\n    </g>\n   </g>\n   <g id=\"patch_23\">\n    <path d=\"M 241.596552 55.303448 \nL 241.596552 7.2 \n\" style=\"fill:none;stroke:#000000;stroke-linecap:square;stroke-linejoin:miter;stroke-width:0.8;\"/>\n   </g>\n   <g id=\"patch_24\">\n    <path d=\"M 289.7 55.303448 \nL 289.7 7.2 \n\" style=\"fill:none;stroke:#000000;stroke-linecap:square;stroke-linejoin:miter;stroke-width:0.8;\"/>\n   </g>\n   <g id=\"patch_25\">\n    <path d=\"M 241.596552 55.303448 \nL 289.7 55.303448 \n\" style=\"fill:none;stroke:#000000;stroke-linecap:square;stroke-linejoin:miter;stroke-width:0.8;\"/>\n   </g>\n   <g id=\"patch_26\">\n    <path d=\"M 241.596552 7.2 \nL 289.7 7.2 \n\" style=\"fill:none;stroke:#000000;stroke-linecap:square;stroke-linejoin:miter;stroke-width:0.8;\"/>\n   </g>\n  </g>\n </g>\n <defs>\n  <clipPath id=\"pce849a2f53\">\n   <rect height=\"48.103448\" width=\"48.103448\" x=\"10.7\" y=\"7.2\"/>\n  </clipPath>\n  <clipPath id=\"pce919f97b5\">\n   <rect height=\"48.103448\" width=\"48.103448\" x=\"68.424138\" y=\"7.2\"/>\n  </clipPath>\n  <clipPath id=\"p74acdc9b96\">\n   <rect height=\"48.103448\" width=\"48.103448\" x=\"126.148276\" y=\"7.2\"/>\n  </clipPath>\n  <clipPath id=\"pbb357b6f9e\">\n   <rect height=\"48.103448\" width=\"48.103448\" x=\"183.872414\" y=\"7.2\"/>\n  </clipPath>\n  <clipPath id=\"pcfad7d58cf\">\n   <rect height=\"48.103448\" width=\"48.103448\" x=\"241.596552\" y=\"7.2\"/>\n  </clipPath>\n </defs>\n</svg>\n",
      "text/plain": "<Figure size 360x72 with 5 Axes>"
     },
     "metadata": {
      "needs_background": "light"
     },
     "output_type": "display_data"
    }
   ],
   "source": [
    "### Load the images and plot them here.\n",
    "### Feel free to use as many code cells as needed.\n",
    "\n",
    "import cv2\n",
    "import glob\n",
    "\n",
    "fig, axs = plt.subplots(1, 5, figsize = (5, 1))\n",
    "\n",
    "# Turn off tick labels\n",
    "for ax in axs:\n",
    "    ax.set_xticklabels([])\n",
    "    ax.set_yticklabels([])\n",
    "\n",
    "# Load additional test images - Images are already scaled to 32x32x3\n",
    "image_list = []\n",
    "for filename in glob.glob('test-images/*.png'):\n",
    "    image = cv2.imread(filename)\n",
    "    image = cv2.cvtColor(image, cv2.COLOR_BGR2RGB)\n",
    "    image_list.append(image)\n",
    "\n",
    "# Display images\n",
    "i = 0\n",
    "for image in image_list:\n",
    "    axs[i].imshow(image)\n",
    "    i = i + 1\n",
    "\n",
    "# Create input data\n",
    "X_test_additional = np.array(image_list)\n",
    "Y_test_additional = [25, 13, 18, 17, 1]\n",
    "\n",
    "# Preprocess additional test data\n",
    "X_test_additional_normalized = normalize(X_test_additional)\n",
    "print('Additional data mean: ', np.mean(X_test_additional_normalized))\n",
    "print('Additional data var: ', np.var(X_test_additional_normalized))\n",
    "print('Labels: ', Y_test_additional)"
   ]
  },
  {
   "cell_type": "markdown",
   "execution_count": null,
   "metadata": {},
   "outputs": [],
   "source": [
    "### Predict the Sign Type for Each Image"
   ]
  },
  {
   "cell_type": "code",
   "execution_count": 23,
   "metadata": {},
   "outputs": [
    {
     "name": "stdout",
     "output_type": "stream",
     "text": "INFO:tensorflow:Restoring parameters from ./lenet\nAdditional test accuracy = 0.600\n"
    }
   ],
   "source": [
    "### Run the predictions here and use the model to output the prediction for each image.\n",
    "### Make sure to pre-process the images with the same pre-processing pipeline used earlier.\n",
    "### Feel free to use as many code cells as needed.\n",
    "\n",
    "softmax_operation = tf.nn.softmax(logits)\n",
    "\n",
    "with tf.Session() as sess:\n",
    "    saver.restore(sess, './lenet')\n",
    "    additional_test_accuracy = evaluate(X_test_additional_normalized, Y_test_additional)\n",
    "    print(\"Additional test accuracy = {:.3f}\".format(additional_test_accuracy))"
   ]
  },
  {
   "cell_type": "markdown",
   "execution_count": null,
   "metadata": {},
   "outputs": [],
   "source": [
    "### Analyze Performance"
   ]
  },
  {
   "cell_type": "code",
   "execution_count": 24,
   "metadata": {},
   "outputs": [],
   "source": [
    "### Calculate the accuracy for these 5 new images. \n",
    "### For example, if the model predicted 1 out of 5 signs correctly, it's 20% accurate on these new images."
   ]
  },
  {
   "cell_type": "markdown",
   "execution_count": null,
   "metadata": {},
   "outputs": [],
   "source": [
    "### Output Top 5 Softmax Probabilities For Each Image Found on the Web"
   ]
  },
  {
   "cell_type": "markdown",
   "execution_count": null,
   "metadata": {},
   "outputs": [],
   "source": [
    "For each of the new images, print out the model's softmax probabilities to show the **certainty** of the model's predictions (limit the output to the top 5 probabilities for each image). [`tf.nn.top_k`](https://www.tensorflow.org/versions/r0.12/api_docs/python/nn.html#top_k) could prove helpful here. \n",
    "\n",
    "The example below demonstrates how tf.nn.top_k can be used to find the top k predictions for each image.\n",
    "\n",
    "`tf.nn.top_k` will return the values and indices (class ids) of the top k predictions. So if k=3, for each sign, it'll return the 3 largest probabilities (out of a possible 43) and the correspoding class ids.\n",
    "\n",
    "Take this numpy array as an example. The values in the array represent predictions. The array contains softmax probabilities for five candidate images with six possible classes. `tf.nn.top_k` is used to choose the three classes with the highest probability:\n",
    "\n",
    "```\n",
    "# (5, 6) array\n",
    "a = np.array([[ 0.24879643,  0.07032244,  0.12641572,  0.34763842,  0.07893497,\n",
    "         0.12789202],\n",
    "       [ 0.28086119,  0.27569815,  0.08594638,  0.0178669 ,  0.18063401,\n",
    "         0.15899337],\n",
    "       [ 0.26076848,  0.23664738,  0.08020603,  0.07001922,  0.1134371 ,\n",
    "         0.23892179],\n",
    "       [ 0.11943333,  0.29198961,  0.02605103,  0.26234032,  0.1351348 ,\n",
    "         0.16505091],\n",
    "       [ 0.09561176,  0.34396535,  0.0643941 ,  0.16240774,  0.24206137,\n",
    "         0.09155967]])\n",
    "```\n",
    "\n",
    "Running it through `sess.run(tf.nn.top_k(tf.constant(a), k=3))` produces:\n",
    "\n",
    "```\n",
    "TopKV2(values=array([[ 0.34763842,  0.24879643,  0.12789202],\n",
    "       [ 0.28086119,  0.27569815,  0.18063401],\n",
    "       [ 0.26076848,  0.23892179,  0.23664738],\n",
    "       [ 0.29198961,  0.26234032,  0.16505091],\n",
    "       [ 0.34396535,  0.24206137,  0.16240774]]), indices=array([[3, 0, 5],\n",
    "       [0, 1, 4],\n",
    "       [0, 5, 1],\n",
    "       [1, 3, 5],\n",
    "       [1, 4, 3]], dtype=int32))\n",
    "```\n",
    "\n",
    "Looking just at the first row we get `[ 0.34763842,  0.24879643,  0.12789202]`, you can confirm these are the 3 largest probabilities in `a`. You'll also notice `[3, 0, 5]` are the corresponding indices."
   ]
  },
  {
   "cell_type": "code",
   "execution_count": null,
   "metadata": {
    "collapsed": true
   },
   "outputs": [],
   "source": [
    "### Print out the top five softmax probabilities for the predictions on the German traffic sign images found on the web. \n",
    "### Feel free to use as many code cells as needed."
   ]
  },
  {
   "cell_type": "markdown",
   "execution_count": null,
   "metadata": {},
   "outputs": [],
   "source": [
    "### Project Writeup\n",
    "\n",
    "Once you have completed the code implementation, document your results in a project writeup using this [template](https://github.com/udacity/CarND-Traffic-Sign-Classifier-Project/blob/master/writeup_template.md) as a guide. The writeup can be in a markdown or pdf file. "
   ]
  },
  {
   "cell_type": "markdown",
   "execution_count": null,
   "metadata": {},
   "outputs": [],
   "source": [
    "> **Note**: Once you have completed all of the code implementations and successfully answered each question above, you may finalize your work by exporting the iPython Notebook as an HTML document. You can do this by using the menu above and navigating to  \\n\",\n",
    "    \"**File -> Download as -> HTML (.html)**. Include the finished document along with this notebook as your submission."
   ]
  },
  {
   "cell_type": "markdown",
   "execution_count": null,
   "metadata": {},
   "outputs": [],
   "source": [
    "---\n",
    "\n",
    "## Step 4 (Optional): Visualize the Neural Network's State with Test Images\n",
    "\n",
    " This Section is not required to complete but acts as an additional excersise for understaning the output of a neural network's weights. While neural networks can be a great learning device they are often referred to as a black box. We can understand what the weights of a neural network look like better by plotting their feature maps. After successfully training your neural network you can see what it's feature maps look like by plotting the output of the network's weight layers in response to a test stimuli image. From these plotted feature maps, it's possible to see what characteristics of an image the network finds interesting. For a sign, maybe the inner network feature maps react with high activation to the sign's boundary outline or to the contrast in the sign's painted symbol.\n",
    "\n",
    " Provided for you below is the function code that allows you to get the visualization output of any tensorflow weight layer you want. The inputs to the function should be a stimuli image, one used during training or a new one you provided, and then the tensorflow variable name that represents the layer's state during the training process, for instance if you wanted to see what the [LeNet lab's](https://classroom.udacity.com/nanodegrees/nd013/parts/fbf77062-5703-404e-b60c-95b78b2f3f9e/modules/6df7ae49-c61c-4bb2-a23e-6527e69209ec/lessons/601ae704-1035-4287-8b11-e2c2716217ad/concepts/d4aca031-508f-4e0b-b493-e7b706120f81) feature maps looked like for it's second convolutional layer you could enter conv2 as the tf_activation variable.\n",
    "\n",
    "For an example of what feature map outputs look like, check out NVIDIA's results in their paper [End-to-End Deep Learning for Self-Driving Cars](https://devblogs.nvidia.com/parallelforall/deep-learning-self-driving-cars/) in the section Visualization of internal CNN State. NVIDIA was able to show that their network's inner weights had high activations to road boundary lines by comparing feature maps from an image with a clear path to one without. Try experimenting with a similar test to show that your trained network's weights are looking for interesting features, whether it's looking at differences in feature maps from images with or without a sign, or even what feature maps look like in a trained network vs a completely untrained one on the same sign image.\n",
    "\n",
    "<figure>\n",
    " <img src=\"visualize_cnn.png\" width=\"380\" alt=\"Combined Image\" />\n",
    " <figcaption>\n",
    " <p></p> \n",
    " <p style=\"text-align: center;\"> Your output should look something like this (above)</p> \n",
    " </figcaption>\n",
    "</figure>\n",
    " <p></p> \n"
   ]
  },
  {
   "cell_type": "code",
   "execution_count": null,
   "metadata": {
    "collapsed": true
   },
   "outputs": [],
   "source": [
    "### Visualize your network's feature maps here.\n",
    "### Feel free to use as many code cells as needed.\n",
    "\n",
    "# image_input: the test image being fed into the network to produce the feature maps\n",
    "# tf_activation: should be a tf variable name used during your training procedure that represents the calculated state of a specific weight layer\n",
    "# activation_min/max: can be used to view the activation contrast in more detail, by default matplot sets min and max to the actual min and max values of the output\n",
    "# plt_num: used to plot out multiple different weight feature map sets on the same block, just extend the plt number for each new feature map entry\n",
    "\n",
    "def outputFeatureMap(image_input, tf_activation, activation_min=-1, activation_max=-1 ,plt_num=1):\n",
    "    # Here make sure to preprocess your image_input in a way your network expects\n",
    "    # with size, normalization, ect if needed\n",
    "    # image_input =\n",
    "    # Note: x should be the same name as your network's tensorflow data placeholder variable\n",
    "    # If you get an error tf_activation is not defined it may be having trouble accessing the variable from inside a function\n",
    "    activation = tf_activation.eval(session=sess,feed_dict={x : image_input})\n",
    "    featuremaps = activation.shape[3]\n",
    "    plt.figure(plt_num, figsize=(15,15))\n",
    "    for featuremap in range(featuremaps):\n",
    "        plt.subplot(6,8, featuremap+1) # sets the number of feature maps to show on each row and column\n",
    "        plt.title('FeatureMap ' + str(featuremap)) # displays the feature map number\n",
    "        if activation_min != -1 & activation_max != -1:\n",
    "            plt.imshow(activation[0,:,:, featuremap], interpolation=\"nearest\", vmin =activation_min, vmax=activation_max, cmap=\"gray\")\n",
    "        elif activation_max != -1:\n",
    "            plt.imshow(activation[0,:,:, featuremap], interpolation=\"nearest\", vmax=activation_max, cmap=\"gray\")\n",
    "        elif activation_min !=-1:\n",
    "            plt.imshow(activation[0,:,:, featuremap], interpolation=\"nearest\", vmin=activation_min, cmap=\"gray\")\n",
    "        else:\n",
    "            plt.imshow(activation[0,:,:, featuremap], interpolation=\"nearest\", cmap=\"gray\")"
   ]
  }
 ],
 "metadata": {
  "anaconda-cloud": {},
  "kernelspec": {
   "display_name": "Python 3.6.10 64-bit ('tensor_flow_env': conda)",
   "language": "python",
   "name": "python361064bittensorflowenvcondaa35489ff3d3741519cd310156546dc0f"
  },
  "language_info": {
   "codemirror_mode": {
    "name": "ipython",
    "version": 3
   },
   "file_extension": ".py",
   "mimetype": "text/x-python",
   "name": "python",
   "nbconvert_exporter": "python",
   "pygments_lexer": "ipython3",
   "version": "3.6.10-final"
  }
 },
 "nbformat": 4,
 "nbformat_minor": 1
}